{
 "cells": [
  {
   "cell_type": "code",
   "execution_count": 1,
   "id": "9959eed3",
   "metadata": {},
   "outputs": [],
   "source": [
    "import pandas as pd"
   ]
  },
  {
   "cell_type": "code",
   "execution_count": 2,
   "id": "2c8285b4",
   "metadata": {},
   "outputs": [],
   "source": [
    "#dataFrame = pd.read_excel(\"dosyaadi.xlsx\")"
   ]
  },
  {
   "cell_type": "markdown",
   "id": "5b85ed81",
   "metadata": {},
   "source": [
    "doluDegerler = dataFrame.dropna()#boşları atar"
   ]
  },
  {
   "cell_type": "raw",
   "id": "68f44525",
   "metadata": {},
   "source": [
    " doluDegerler.to_excel(\"yenimaas.xlsx) #excel'e kaydeder"
   ]
  },
  {
   "cell_type": "code",
   "execution_count": null,
   "id": "b35a4acc",
   "metadata": {},
   "outputs": [],
   "source": []
  }
 ],
 "metadata": {
  "kernelspec": {
   "display_name": "Python 3 (ipykernel)",
   "language": "python",
   "name": "python3"
  },
  "language_info": {
   "codemirror_mode": {
    "name": "ipython",
    "version": 3
   },
   "file_extension": ".py",
   "mimetype": "text/x-python",
   "name": "python",
   "nbconvert_exporter": "python",
   "pygments_lexer": "ipython3",
   "version": "3.9.7"
  }
 },
 "nbformat": 4,
 "nbformat_minor": 5
}

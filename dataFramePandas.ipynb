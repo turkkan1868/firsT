{
 "cells": [
  {
   "cell_type": "code",
   "execution_count": 2,
   "id": "f5e4722f",
   "metadata": {},
   "outputs": [],
   "source": [
    "import numpy as np\n",
    "import pandas as pd"
   ]
  },
  {
   "cell_type": "code",
   "execution_count": 3,
   "id": "09623072",
   "metadata": {},
   "outputs": [],
   "source": [
    "data = np.random.randn(4,3) # matriks"
   ]
  },
  {
   "cell_type": "code",
   "execution_count": 4,
   "id": "010f8707",
   "metadata": {},
   "outputs": [
    {
     "data": {
      "text/plain": [
       "array([[-0.43737153, -0.14136314, -0.37461924],\n",
       "       [ 0.38228467, -0.13551223, -0.29764899],\n",
       "       [ 1.13193962, -0.34529926, -0.62422617],\n",
       "       [ 0.06077358,  0.04986245,  0.74313405]])"
      ]
     },
     "execution_count": 4,
     "metadata": {},
     "output_type": "execute_result"
    }
   ],
   "source": [
    "data"
   ]
  },
  {
   "cell_type": "code",
   "execution_count": 5,
   "id": "eb687d7f",
   "metadata": {},
   "outputs": [],
   "source": [
    "dataFrame = pd.DataFrame(data)"
   ]
  },
  {
   "cell_type": "code",
   "execution_count": 6,
   "id": "72f88587",
   "metadata": {},
   "outputs": [
    {
     "data": {
      "text/plain": [
       "0   -0.437372\n",
       "1    0.382285\n",
       "2    1.131940\n",
       "3    0.060774\n",
       "Name: 0, dtype: float64"
      ]
     },
     "execution_count": 6,
     "metadata": {},
     "output_type": "execute_result"
    }
   ],
   "source": [
    "dataFrame[0]  #dik olan ilk sırayı getirir"
   ]
  },
  {
   "cell_type": "code",
   "execution_count": 7,
   "id": "84c85b6b",
   "metadata": {},
   "outputs": [],
   "source": [
    "yeniDataFrame = pd.DataFrame(data,index=[\"atıl\",\"zeynep\",\"atlas\",\"mehmet\"],columns=[\"maas\",\"yas\",\"calismasaati\"])"
   ]
  },
  {
   "cell_type": "code",
   "execution_count": 8,
   "id": "d6409d07",
   "metadata": {},
   "outputs": [
    {
     "data": {
      "text/html": [
       "<div>\n",
       "<style scoped>\n",
       "    .dataframe tbody tr th:only-of-type {\n",
       "        vertical-align: middle;\n",
       "    }\n",
       "\n",
       "    .dataframe tbody tr th {\n",
       "        vertical-align: top;\n",
       "    }\n",
       "\n",
       "    .dataframe thead th {\n",
       "        text-align: right;\n",
       "    }\n",
       "</style>\n",
       "<table border=\"1\" class=\"dataframe\">\n",
       "  <thead>\n",
       "    <tr style=\"text-align: right;\">\n",
       "      <th></th>\n",
       "      <th>maas</th>\n",
       "      <th>yas</th>\n",
       "      <th>calismasaati</th>\n",
       "    </tr>\n",
       "  </thead>\n",
       "  <tbody>\n",
       "    <tr>\n",
       "      <th>atıl</th>\n",
       "      <td>-0.437372</td>\n",
       "      <td>-0.141363</td>\n",
       "      <td>-0.374619</td>\n",
       "    </tr>\n",
       "    <tr>\n",
       "      <th>zeynep</th>\n",
       "      <td>0.382285</td>\n",
       "      <td>-0.135512</td>\n",
       "      <td>-0.297649</td>\n",
       "    </tr>\n",
       "    <tr>\n",
       "      <th>atlas</th>\n",
       "      <td>1.131940</td>\n",
       "      <td>-0.345299</td>\n",
       "      <td>-0.624226</td>\n",
       "    </tr>\n",
       "    <tr>\n",
       "      <th>mehmet</th>\n",
       "      <td>0.060774</td>\n",
       "      <td>0.049862</td>\n",
       "      <td>0.743134</td>\n",
       "    </tr>\n",
       "  </tbody>\n",
       "</table>\n",
       "</div>"
      ],
      "text/plain": [
       "            maas       yas  calismasaati\n",
       "atıl   -0.437372 -0.141363     -0.374619\n",
       "zeynep  0.382285 -0.135512     -0.297649\n",
       "atlas   1.131940 -0.345299     -0.624226\n",
       "mehmet  0.060774  0.049862      0.743134"
      ]
     },
     "execution_count": 8,
     "metadata": {},
     "output_type": "execute_result"
    }
   ],
   "source": [
    "yeniDataFrame\n"
   ]
  },
  {
   "cell_type": "code",
   "execution_count": 9,
   "id": "0c2fccde",
   "metadata": {},
   "outputs": [
    {
     "data": {
      "text/plain": [
       "atıl     -0.141363\n",
       "zeynep   -0.135512\n",
       "atlas    -0.345299\n",
       "mehmet    0.049862\n",
       "Name: yas, dtype: float64"
      ]
     },
     "execution_count": 9,
     "metadata": {},
     "output_type": "execute_result"
    }
   ],
   "source": [
    "     yeniDataFrame[\"yas\"]"
   ]
  },
  {
   "cell_type": "code",
   "execution_count": 10,
   "id": "6f69db2d",
   "metadata": {},
   "outputs": [
    {
     "data": {
      "text/plain": [
       "atıl     -0.374619\n",
       "zeynep   -0.297649\n",
       "atlas    -0.624226\n",
       "mehmet    0.743134\n",
       "Name: calismasaati, dtype: float64"
      ]
     },
     "execution_count": 10,
     "metadata": {},
     "output_type": "execute_result"
    }
   ],
   "source": [
    "yeniDataFrame[\"calismasaati\"]"
   ]
  },
  {
   "cell_type": "code",
   "execution_count": 11,
   "id": "95080bdd",
   "metadata": {},
   "outputs": [
    {
     "data": {
      "text/html": [
       "<div>\n",
       "<style scoped>\n",
       "    .dataframe tbody tr th:only-of-type {\n",
       "        vertical-align: middle;\n",
       "    }\n",
       "\n",
       "    .dataframe tbody tr th {\n",
       "        vertical-align: top;\n",
       "    }\n",
       "\n",
       "    .dataframe thead th {\n",
       "        text-align: right;\n",
       "    }\n",
       "</style>\n",
       "<table border=\"1\" class=\"dataframe\">\n",
       "  <thead>\n",
       "    <tr style=\"text-align: right;\">\n",
       "      <th></th>\n",
       "      <th>yas</th>\n",
       "      <th>maas</th>\n",
       "    </tr>\n",
       "  </thead>\n",
       "  <tbody>\n",
       "    <tr>\n",
       "      <th>atıl</th>\n",
       "      <td>-0.141363</td>\n",
       "      <td>-0.437372</td>\n",
       "    </tr>\n",
       "    <tr>\n",
       "      <th>zeynep</th>\n",
       "      <td>-0.135512</td>\n",
       "      <td>0.382285</td>\n",
       "    </tr>\n",
       "    <tr>\n",
       "      <th>atlas</th>\n",
       "      <td>-0.345299</td>\n",
       "      <td>1.131940</td>\n",
       "    </tr>\n",
       "    <tr>\n",
       "      <th>mehmet</th>\n",
       "      <td>0.049862</td>\n",
       "      <td>0.060774</td>\n",
       "    </tr>\n",
       "  </tbody>\n",
       "</table>\n",
       "</div>"
      ],
      "text/plain": [
       "             yas      maas\n",
       "atıl   -0.141363 -0.437372\n",
       "zeynep -0.135512  0.382285\n",
       "atlas  -0.345299  1.131940\n",
       "mehmet  0.049862  0.060774"
      ]
     },
     "execution_count": 11,
     "metadata": {},
     "output_type": "execute_result"
    }
   ],
   "source": [
    "yeniDataFrame[[\"yas\",\"maas\"]]#ikili olunca böyle yapcan"
   ]
  },
  {
   "cell_type": "code",
   "execution_count": 12,
   "id": "9a71e5c3",
   "metadata": {},
   "outputs": [
    {
     "data": {
      "text/html": [
       "<div>\n",
       "<style scoped>\n",
       "    .dataframe tbody tr th:only-of-type {\n",
       "        vertical-align: middle;\n",
       "    }\n",
       "\n",
       "    .dataframe tbody tr th {\n",
       "        vertical-align: top;\n",
       "    }\n",
       "\n",
       "    .dataframe thead th {\n",
       "        text-align: right;\n",
       "    }\n",
       "</style>\n",
       "<table border=\"1\" class=\"dataframe\">\n",
       "  <thead>\n",
       "    <tr style=\"text-align: right;\">\n",
       "      <th></th>\n",
       "      <th>maas</th>\n",
       "      <th>yas</th>\n",
       "      <th>calismasaati</th>\n",
       "    </tr>\n",
       "  </thead>\n",
       "  <tbody>\n",
       "    <tr>\n",
       "      <th>atıl</th>\n",
       "      <td>-0.437372</td>\n",
       "      <td>-0.141363</td>\n",
       "      <td>-0.374619</td>\n",
       "    </tr>\n",
       "    <tr>\n",
       "      <th>zeynep</th>\n",
       "      <td>0.382285</td>\n",
       "      <td>-0.135512</td>\n",
       "      <td>-0.297649</td>\n",
       "    </tr>\n",
       "    <tr>\n",
       "      <th>atlas</th>\n",
       "      <td>1.131940</td>\n",
       "      <td>-0.345299</td>\n",
       "      <td>-0.624226</td>\n",
       "    </tr>\n",
       "    <tr>\n",
       "      <th>mehmet</th>\n",
       "      <td>0.060774</td>\n",
       "      <td>0.049862</td>\n",
       "      <td>0.743134</td>\n",
       "    </tr>\n",
       "  </tbody>\n",
       "</table>\n",
       "</div>"
      ],
      "text/plain": [
       "            maas       yas  calismasaati\n",
       "atıl   -0.437372 -0.141363     -0.374619\n",
       "zeynep  0.382285 -0.135512     -0.297649\n",
       "atlas   1.131940 -0.345299     -0.624226\n",
       "mehmet  0.060774  0.049862      0.743134"
      ]
     },
     "execution_count": 12,
     "metadata": {},
     "output_type": "execute_result"
    }
   ],
   "source": [
    "yeniDataFrame\n"
   ]
  },
  {
   "cell_type": "code",
   "execution_count": 13,
   "id": "fc3a7aa5",
   "metadata": {},
   "outputs": [
    {
     "data": {
      "text/plain": [
       "maas           -0.437372\n",
       "yas            -0.141363\n",
       "calismasaati   -0.374619\n",
       "Name: atıl, dtype: float64"
      ]
     },
     "execution_count": 13,
     "metadata": {},
     "output_type": "execute_result"
    }
   ],
   "source": [
    "yeniDataFrame.loc[\"atıl\"] # isme yani kolon olamyan yerdeki veriyi çekmek"
   ]
  },
  {
   "cell_type": "code",
   "execution_count": 14,
   "id": "a85f1e84",
   "metadata": {},
   "outputs": [],
   "source": [
    "#böyle de olur altta"
   ]
  },
  {
   "cell_type": "code",
   "execution_count": 15,
   "id": "eae931e1",
   "metadata": {},
   "outputs": [
    {
     "data": {
      "text/plain": [
       "maas           -0.437372\n",
       "yas            -0.141363\n",
       "calismasaati   -0.374619\n",
       "Name: atıl, dtype: float64"
      ]
     },
     "execution_count": 15,
     "metadata": {},
     "output_type": "execute_result"
    }
   ],
   "source": [
    "yeniDataFrame.iloc[0] ### i ekledik loc başına indexe göre çekmek için"
   ]
  },
  {
   "cell_type": "code",
   "execution_count": 16,
   "id": "6d2afd08",
   "metadata": {},
   "outputs": [
    {
     "data": {
      "text/html": [
       "<div>\n",
       "<style scoped>\n",
       "    .dataframe tbody tr th:only-of-type {\n",
       "        vertical-align: middle;\n",
       "    }\n",
       "\n",
       "    .dataframe tbody tr th {\n",
       "        vertical-align: top;\n",
       "    }\n",
       "\n",
       "    .dataframe thead th {\n",
       "        text-align: right;\n",
       "    }\n",
       "</style>\n",
       "<table border=\"1\" class=\"dataframe\">\n",
       "  <thead>\n",
       "    <tr style=\"text-align: right;\">\n",
       "      <th></th>\n",
       "      <th>maas</th>\n",
       "      <th>yas</th>\n",
       "      <th>calismasaati</th>\n",
       "    </tr>\n",
       "  </thead>\n",
       "  <tbody>\n",
       "    <tr>\n",
       "      <th>atıl</th>\n",
       "      <td>-0.437372</td>\n",
       "      <td>-0.141363</td>\n",
       "      <td>-0.374619</td>\n",
       "    </tr>\n",
       "    <tr>\n",
       "      <th>zeynep</th>\n",
       "      <td>0.382285</td>\n",
       "      <td>-0.135512</td>\n",
       "      <td>-0.297649</td>\n",
       "    </tr>\n",
       "    <tr>\n",
       "      <th>atlas</th>\n",
       "      <td>1.131940</td>\n",
       "      <td>-0.345299</td>\n",
       "      <td>-0.624226</td>\n",
       "    </tr>\n",
       "    <tr>\n",
       "      <th>mehmet</th>\n",
       "      <td>0.060774</td>\n",
       "      <td>0.049862</td>\n",
       "      <td>0.743134</td>\n",
       "    </tr>\n",
       "  </tbody>\n",
       "</table>\n",
       "</div>"
      ],
      "text/plain": [
       "            maas       yas  calismasaati\n",
       "atıl   -0.437372 -0.141363     -0.374619\n",
       "zeynep  0.382285 -0.135512     -0.297649\n",
       "atlas   1.131940 -0.345299     -0.624226\n",
       "mehmet  0.060774  0.049862      0.743134"
      ]
     },
     "execution_count": 16,
     "metadata": {},
     "output_type": "execute_result"
    }
   ],
   "source": [
    "yeniDataFrame"
   ]
  },
  {
   "cell_type": "code",
   "execution_count": 17,
   "id": "fe3d94d9",
   "metadata": {},
   "outputs": [],
   "source": [
    "#kolon ekleme#"
   ]
  },
  {
   "cell_type": "code",
   "execution_count": 18,
   "id": "26fee867",
   "metadata": {},
   "outputs": [
    {
     "data": {
      "text/plain": [
       "atıl     -0.437372\n",
       "zeynep    0.382285\n",
       "atlas     1.131940\n",
       "mehmet    0.060774\n",
       "Name: maas, dtype: float64"
      ]
     },
     "execution_count": 18,
     "metadata": {},
     "output_type": "execute_result"
    }
   ],
   "source": [
    "yeniDataFrame[\"maas\"]"
   ]
  },
  {
   "cell_type": "code",
   "execution_count": 19,
   "id": "ac4fd333",
   "metadata": {},
   "outputs": [],
   "source": [
    "yeniDataFrame[\"emeklilik yasi\"] = yeniDataFrame[\"yas\"] + yeniDataFrame[\"yas\"]"
   ]
  },
  {
   "cell_type": "code",
   "execution_count": 20,
   "id": "ac650721",
   "metadata": {},
   "outputs": [
    {
     "data": {
      "text/html": [
       "<div>\n",
       "<style scoped>\n",
       "    .dataframe tbody tr th:only-of-type {\n",
       "        vertical-align: middle;\n",
       "    }\n",
       "\n",
       "    .dataframe tbody tr th {\n",
       "        vertical-align: top;\n",
       "    }\n",
       "\n",
       "    .dataframe thead th {\n",
       "        text-align: right;\n",
       "    }\n",
       "</style>\n",
       "<table border=\"1\" class=\"dataframe\">\n",
       "  <thead>\n",
       "    <tr style=\"text-align: right;\">\n",
       "      <th></th>\n",
       "      <th>maas</th>\n",
       "      <th>yas</th>\n",
       "      <th>calismasaati</th>\n",
       "      <th>emeklilik yasi</th>\n",
       "    </tr>\n",
       "  </thead>\n",
       "  <tbody>\n",
       "    <tr>\n",
       "      <th>atıl</th>\n",
       "      <td>-0.437372</td>\n",
       "      <td>-0.141363</td>\n",
       "      <td>-0.374619</td>\n",
       "      <td>-0.282726</td>\n",
       "    </tr>\n",
       "    <tr>\n",
       "      <th>zeynep</th>\n",
       "      <td>0.382285</td>\n",
       "      <td>-0.135512</td>\n",
       "      <td>-0.297649</td>\n",
       "      <td>-0.271024</td>\n",
       "    </tr>\n",
       "    <tr>\n",
       "      <th>atlas</th>\n",
       "      <td>1.131940</td>\n",
       "      <td>-0.345299</td>\n",
       "      <td>-0.624226</td>\n",
       "      <td>-0.690599</td>\n",
       "    </tr>\n",
       "    <tr>\n",
       "      <th>mehmet</th>\n",
       "      <td>0.060774</td>\n",
       "      <td>0.049862</td>\n",
       "      <td>0.743134</td>\n",
       "      <td>0.099725</td>\n",
       "    </tr>\n",
       "  </tbody>\n",
       "</table>\n",
       "</div>"
      ],
      "text/plain": [
       "            maas       yas  calismasaati  emeklilik yasi\n",
       "atıl   -0.437372 -0.141363     -0.374619       -0.282726\n",
       "zeynep  0.382285 -0.135512     -0.297649       -0.271024\n",
       "atlas   1.131940 -0.345299     -0.624226       -0.690599\n",
       "mehmet  0.060774  0.049862      0.743134        0.099725"
      ]
     },
     "execution_count": 20,
     "metadata": {},
     "output_type": "execute_result"
    }
   ],
   "source": [
    "yeniDataFrame"
   ]
  },
  {
   "cell_type": "code",
   "execution_count": 21,
   "id": "703f56a1",
   "metadata": {},
   "outputs": [],
   "source": [
    "#silme#"
   ]
  },
  {
   "cell_type": "code",
   "execution_count": 22,
   "id": "c553473d",
   "metadata": {},
   "outputs": [
    {
     "data": {
      "text/html": [
       "<div>\n",
       "<style scoped>\n",
       "    .dataframe tbody tr th:only-of-type {\n",
       "        vertical-align: middle;\n",
       "    }\n",
       "\n",
       "    .dataframe tbody tr th {\n",
       "        vertical-align: top;\n",
       "    }\n",
       "\n",
       "    .dataframe thead th {\n",
       "        text-align: right;\n",
       "    }\n",
       "</style>\n",
       "<table border=\"1\" class=\"dataframe\">\n",
       "  <thead>\n",
       "    <tr style=\"text-align: right;\">\n",
       "      <th></th>\n",
       "      <th>maas</th>\n",
       "      <th>yas</th>\n",
       "      <th>calismasaati</th>\n",
       "    </tr>\n",
       "  </thead>\n",
       "  <tbody>\n",
       "    <tr>\n",
       "      <th>atıl</th>\n",
       "      <td>-0.437372</td>\n",
       "      <td>-0.141363</td>\n",
       "      <td>-0.374619</td>\n",
       "    </tr>\n",
       "    <tr>\n",
       "      <th>zeynep</th>\n",
       "      <td>0.382285</td>\n",
       "      <td>-0.135512</td>\n",
       "      <td>-0.297649</td>\n",
       "    </tr>\n",
       "    <tr>\n",
       "      <th>atlas</th>\n",
       "      <td>1.131940</td>\n",
       "      <td>-0.345299</td>\n",
       "      <td>-0.624226</td>\n",
       "    </tr>\n",
       "    <tr>\n",
       "      <th>mehmet</th>\n",
       "      <td>0.060774</td>\n",
       "      <td>0.049862</td>\n",
       "      <td>0.743134</td>\n",
       "    </tr>\n",
       "  </tbody>\n",
       "</table>\n",
       "</div>"
      ],
      "text/plain": [
       "            maas       yas  calismasaati\n",
       "atıl   -0.437372 -0.141363     -0.374619\n",
       "zeynep  0.382285 -0.135512     -0.297649\n",
       "atlas   1.131940 -0.345299     -0.624226\n",
       "mehmet  0.060774  0.049862      0.743134"
      ]
     },
     "execution_count": 22,
     "metadata": {},
     "output_type": "execute_result"
    }
   ],
   "source": [
    "yeniDataFrame.drop(\"emeklilik yasi\",axis = 1 ) # ekseni belittik hata almamak için x y kordinatı gibi"
   ]
  },
  {
   "cell_type": "code",
   "execution_count": 23,
   "id": "d715b448",
   "metadata": {},
   "outputs": [
    {
     "data": {
      "text/html": [
       "<div>\n",
       "<style scoped>\n",
       "    .dataframe tbody tr th:only-of-type {\n",
       "        vertical-align: middle;\n",
       "    }\n",
       "\n",
       "    .dataframe tbody tr th {\n",
       "        vertical-align: top;\n",
       "    }\n",
       "\n",
       "    .dataframe thead th {\n",
       "        text-align: right;\n",
       "    }\n",
       "</style>\n",
       "<table border=\"1\" class=\"dataframe\">\n",
       "  <thead>\n",
       "    <tr style=\"text-align: right;\">\n",
       "      <th></th>\n",
       "      <th>maas</th>\n",
       "      <th>yas</th>\n",
       "      <th>calismasaati</th>\n",
       "      <th>emeklilik yasi</th>\n",
       "    </tr>\n",
       "  </thead>\n",
       "  <tbody>\n",
       "    <tr>\n",
       "      <th>atıl</th>\n",
       "      <td>-0.437372</td>\n",
       "      <td>-0.141363</td>\n",
       "      <td>-0.374619</td>\n",
       "      <td>-0.282726</td>\n",
       "    </tr>\n",
       "    <tr>\n",
       "      <th>zeynep</th>\n",
       "      <td>0.382285</td>\n",
       "      <td>-0.135512</td>\n",
       "      <td>-0.297649</td>\n",
       "      <td>-0.271024</td>\n",
       "    </tr>\n",
       "    <tr>\n",
       "      <th>atlas</th>\n",
       "      <td>1.131940</td>\n",
       "      <td>-0.345299</td>\n",
       "      <td>-0.624226</td>\n",
       "      <td>-0.690599</td>\n",
       "    </tr>\n",
       "  </tbody>\n",
       "</table>\n",
       "</div>"
      ],
      "text/plain": [
       "            maas       yas  calismasaati  emeklilik yasi\n",
       "atıl   -0.437372 -0.141363     -0.374619       -0.282726\n",
       "zeynep  0.382285 -0.135512     -0.297649       -0.271024\n",
       "atlas   1.131940 -0.345299     -0.624226       -0.690599"
      ]
     },
     "execution_count": 23,
     "metadata": {},
     "output_type": "execute_result"
    }
   ],
   "source": [
    " yeniDataFrame.drop(\"mehmet\")  #kolonlarda axis belirtmen yeter"
   ]
  },
  {
   "cell_type": "code",
   "execution_count": 24,
   "id": "5d90e550",
   "metadata": {},
   "outputs": [
    {
     "data": {
      "text/html": [
       "<div>\n",
       "<style scoped>\n",
       "    .dataframe tbody tr th:only-of-type {\n",
       "        vertical-align: middle;\n",
       "    }\n",
       "\n",
       "    .dataframe tbody tr th {\n",
       "        vertical-align: top;\n",
       "    }\n",
       "\n",
       "    .dataframe thead th {\n",
       "        text-align: right;\n",
       "    }\n",
       "</style>\n",
       "<table border=\"1\" class=\"dataframe\">\n",
       "  <thead>\n",
       "    <tr style=\"text-align: right;\">\n",
       "      <th></th>\n",
       "      <th>maas</th>\n",
       "      <th>yas</th>\n",
       "      <th>calismasaati</th>\n",
       "      <th>emeklilik yasi</th>\n",
       "    </tr>\n",
       "  </thead>\n",
       "  <tbody>\n",
       "    <tr>\n",
       "      <th>atıl</th>\n",
       "      <td>-0.437372</td>\n",
       "      <td>-0.141363</td>\n",
       "      <td>-0.374619</td>\n",
       "      <td>-0.282726</td>\n",
       "    </tr>\n",
       "    <tr>\n",
       "      <th>zeynep</th>\n",
       "      <td>0.382285</td>\n",
       "      <td>-0.135512</td>\n",
       "      <td>-0.297649</td>\n",
       "      <td>-0.271024</td>\n",
       "    </tr>\n",
       "    <tr>\n",
       "      <th>atlas</th>\n",
       "      <td>1.131940</td>\n",
       "      <td>-0.345299</td>\n",
       "      <td>-0.624226</td>\n",
       "      <td>-0.690599</td>\n",
       "    </tr>\n",
       "    <tr>\n",
       "      <th>mehmet</th>\n",
       "      <td>0.060774</td>\n",
       "      <td>0.049862</td>\n",
       "      <td>0.743134</td>\n",
       "      <td>0.099725</td>\n",
       "    </tr>\n",
       "  </tbody>\n",
       "</table>\n",
       "</div>"
      ],
      "text/plain": [
       "            maas       yas  calismasaati  emeklilik yasi\n",
       "atıl   -0.437372 -0.141363     -0.374619       -0.282726\n",
       "zeynep  0.382285 -0.135512     -0.297649       -0.271024\n",
       "atlas   1.131940 -0.345299     -0.624226       -0.690599\n",
       "mehmet  0.060774  0.049862      0.743134        0.099725"
      ]
     },
     "execution_count": 24,
     "metadata": {},
     "output_type": "execute_result"
    }
   ],
   "source": [
    "yeniDataFrame"
   ]
  },
  {
   "cell_type": "code",
   "execution_count": 25,
   "id": "798ef469",
   "metadata": {},
   "outputs": [],
   "source": [
    "## gördüğün gibi kaydetmemeiş#"
   ]
  },
  {
   "cell_type": "code",
   "execution_count": 26,
   "id": "00b4703e",
   "metadata": {},
   "outputs": [],
   "source": [
    "yeniDataFrame.drop(\"emeklilik yasi\",axis = 1,inplace=True)"
   ]
  },
  {
   "cell_type": "code",
   "execution_count": 27,
   "id": "699fb1c9",
   "metadata": {},
   "outputs": [
    {
     "data": {
      "text/html": [
       "<div>\n",
       "<style scoped>\n",
       "    .dataframe tbody tr th:only-of-type {\n",
       "        vertical-align: middle;\n",
       "    }\n",
       "\n",
       "    .dataframe tbody tr th {\n",
       "        vertical-align: top;\n",
       "    }\n",
       "\n",
       "    .dataframe thead th {\n",
       "        text-align: right;\n",
       "    }\n",
       "</style>\n",
       "<table border=\"1\" class=\"dataframe\">\n",
       "  <thead>\n",
       "    <tr style=\"text-align: right;\">\n",
       "      <th></th>\n",
       "      <th>maas</th>\n",
       "      <th>yas</th>\n",
       "      <th>calismasaati</th>\n",
       "    </tr>\n",
       "  </thead>\n",
       "  <tbody>\n",
       "    <tr>\n",
       "      <th>atıl</th>\n",
       "      <td>-0.437372</td>\n",
       "      <td>-0.141363</td>\n",
       "      <td>-0.374619</td>\n",
       "    </tr>\n",
       "    <tr>\n",
       "      <th>zeynep</th>\n",
       "      <td>0.382285</td>\n",
       "      <td>-0.135512</td>\n",
       "      <td>-0.297649</td>\n",
       "    </tr>\n",
       "    <tr>\n",
       "      <th>atlas</th>\n",
       "      <td>1.131940</td>\n",
       "      <td>-0.345299</td>\n",
       "      <td>-0.624226</td>\n",
       "    </tr>\n",
       "    <tr>\n",
       "      <th>mehmet</th>\n",
       "      <td>0.060774</td>\n",
       "      <td>0.049862</td>\n",
       "      <td>0.743134</td>\n",
       "    </tr>\n",
       "  </tbody>\n",
       "</table>\n",
       "</div>"
      ],
      "text/plain": [
       "            maas       yas  calismasaati\n",
       "atıl   -0.437372 -0.141363     -0.374619\n",
       "zeynep  0.382285 -0.135512     -0.297649\n",
       "atlas   1.131940 -0.345299     -0.624226\n",
       "mehmet  0.060774  0.049862      0.743134"
      ]
     },
     "execution_count": 27,
     "metadata": {},
     "output_type": "execute_result"
    }
   ],
   "source": [
    "yeniDataFrame"
   ]
  },
  {
   "cell_type": "code",
   "execution_count": 28,
   "id": "9f8696ad",
   "metadata": {},
   "outputs": [
    {
     "data": {
      "text/plain": [
       "-0.1355122342323073"
      ]
     },
     "execution_count": 28,
     "metadata": {},
     "output_type": "execute_result"
    }
   ],
   "source": [
    "yeniDataFrame.loc[\"zeynep\"][\"yas\"]"
   ]
  },
  {
   "cell_type": "code",
   "execution_count": 29,
   "id": "c1213e16",
   "metadata": {},
   "outputs": [
    {
     "data": {
      "text/html": [
       "<div>\n",
       "<style scoped>\n",
       "    .dataframe tbody tr th:only-of-type {\n",
       "        vertical-align: middle;\n",
       "    }\n",
       "\n",
       "    .dataframe tbody tr th {\n",
       "        vertical-align: top;\n",
       "    }\n",
       "\n",
       "    .dataframe thead th {\n",
       "        text-align: right;\n",
       "    }\n",
       "</style>\n",
       "<table border=\"1\" class=\"dataframe\">\n",
       "  <thead>\n",
       "    <tr style=\"text-align: right;\">\n",
       "      <th></th>\n",
       "      <th>maas</th>\n",
       "      <th>yas</th>\n",
       "      <th>calismasaati</th>\n",
       "    </tr>\n",
       "  </thead>\n",
       "  <tbody>\n",
       "    <tr>\n",
       "      <th>atıl</th>\n",
       "      <td>-0.437372</td>\n",
       "      <td>-0.141363</td>\n",
       "      <td>-0.374619</td>\n",
       "    </tr>\n",
       "    <tr>\n",
       "      <th>zeynep</th>\n",
       "      <td>0.382285</td>\n",
       "      <td>-0.135512</td>\n",
       "      <td>-0.297649</td>\n",
       "    </tr>\n",
       "    <tr>\n",
       "      <th>atlas</th>\n",
       "      <td>1.131940</td>\n",
       "      <td>-0.345299</td>\n",
       "      <td>-0.624226</td>\n",
       "    </tr>\n",
       "    <tr>\n",
       "      <th>mehmet</th>\n",
       "      <td>0.060774</td>\n",
       "      <td>0.049862</td>\n",
       "      <td>0.743134</td>\n",
       "    </tr>\n",
       "  </tbody>\n",
       "</table>\n",
       "</div>"
      ],
      "text/plain": [
       "            maas       yas  calismasaati\n",
       "atıl   -0.437372 -0.141363     -0.374619\n",
       "zeynep  0.382285 -0.135512     -0.297649\n",
       "atlas   1.131940 -0.345299     -0.624226\n",
       "mehmet  0.060774  0.049862      0.743134"
      ]
     },
     "execution_count": 29,
     "metadata": {},
     "output_type": "execute_result"
    }
   ],
   "source": [
    "yeniDataFrame\n"
   ]
  },
  {
   "cell_type": "code",
   "execution_count": 30,
   "id": "8871a66e",
   "metadata": {},
   "outputs": [
    {
     "data": {
      "text/html": [
       "<div>\n",
       "<style scoped>\n",
       "    .dataframe tbody tr th:only-of-type {\n",
       "        vertical-align: middle;\n",
       "    }\n",
       "\n",
       "    .dataframe tbody tr th {\n",
       "        vertical-align: top;\n",
       "    }\n",
       "\n",
       "    .dataframe thead th {\n",
       "        text-align: right;\n",
       "    }\n",
       "</style>\n",
       "<table border=\"1\" class=\"dataframe\">\n",
       "  <thead>\n",
       "    <tr style=\"text-align: right;\">\n",
       "      <th></th>\n",
       "      <th>maas</th>\n",
       "      <th>yas</th>\n",
       "      <th>calismasaati</th>\n",
       "    </tr>\n",
       "  </thead>\n",
       "  <tbody>\n",
       "    <tr>\n",
       "      <th>atıl</th>\n",
       "      <td>True</td>\n",
       "      <td>True</td>\n",
       "      <td>True</td>\n",
       "    </tr>\n",
       "    <tr>\n",
       "      <th>zeynep</th>\n",
       "      <td>False</td>\n",
       "      <td>True</td>\n",
       "      <td>True</td>\n",
       "    </tr>\n",
       "    <tr>\n",
       "      <th>atlas</th>\n",
       "      <td>False</td>\n",
       "      <td>True</td>\n",
       "      <td>True</td>\n",
       "    </tr>\n",
       "    <tr>\n",
       "      <th>mehmet</th>\n",
       "      <td>False</td>\n",
       "      <td>False</td>\n",
       "      <td>False</td>\n",
       "    </tr>\n",
       "  </tbody>\n",
       "</table>\n",
       "</div>"
      ],
      "text/plain": [
       "         maas    yas  calismasaati\n",
       "atıl     True   True          True\n",
       "zeynep  False   True          True\n",
       "atlas   False   True          True\n",
       "mehmet  False  False         False"
      ]
     },
     "execution_count": 30,
     "metadata": {},
     "output_type": "execute_result"
    }
   ],
   "source": [
    "yeniDataFrame < 0"
   ]
  },
  {
   "cell_type": "code",
   "execution_count": 31,
   "id": "a716240a",
   "metadata": {},
   "outputs": [],
   "source": [
    "booleanFrame = yeniDataFrame <0 "
   ]
  },
  {
   "cell_type": "code",
   "execution_count": 32,
   "id": "08352368",
   "metadata": {},
   "outputs": [
    {
     "data": {
      "text/html": [
       "<div>\n",
       "<style scoped>\n",
       "    .dataframe tbody tr th:only-of-type {\n",
       "        vertical-align: middle;\n",
       "    }\n",
       "\n",
       "    .dataframe tbody tr th {\n",
       "        vertical-align: top;\n",
       "    }\n",
       "\n",
       "    .dataframe thead th {\n",
       "        text-align: right;\n",
       "    }\n",
       "</style>\n",
       "<table border=\"1\" class=\"dataframe\">\n",
       "  <thead>\n",
       "    <tr style=\"text-align: right;\">\n",
       "      <th></th>\n",
       "      <th>maas</th>\n",
       "      <th>yas</th>\n",
       "      <th>calismasaati</th>\n",
       "    </tr>\n",
       "  </thead>\n",
       "  <tbody>\n",
       "    <tr>\n",
       "      <th>atıl</th>\n",
       "      <td>True</td>\n",
       "      <td>True</td>\n",
       "      <td>True</td>\n",
       "    </tr>\n",
       "    <tr>\n",
       "      <th>zeynep</th>\n",
       "      <td>False</td>\n",
       "      <td>True</td>\n",
       "      <td>True</td>\n",
       "    </tr>\n",
       "    <tr>\n",
       "      <th>atlas</th>\n",
       "      <td>False</td>\n",
       "      <td>True</td>\n",
       "      <td>True</td>\n",
       "    </tr>\n",
       "    <tr>\n",
       "      <th>mehmet</th>\n",
       "      <td>False</td>\n",
       "      <td>False</td>\n",
       "      <td>False</td>\n",
       "    </tr>\n",
       "  </tbody>\n",
       "</table>\n",
       "</div>"
      ],
      "text/plain": [
       "         maas    yas  calismasaati\n",
       "atıl     True   True          True\n",
       "zeynep  False   True          True\n",
       "atlas   False   True          True\n",
       "mehmet  False  False         False"
      ]
     },
     "execution_count": 32,
     "metadata": {},
     "output_type": "execute_result"
    }
   ],
   "source": [
    "booleanFrame"
   ]
  },
  {
   "cell_type": "code",
   "execution_count": 33,
   "id": "89e575ed",
   "metadata": {},
   "outputs": [
    {
     "data": {
      "text/html": [
       "<div>\n",
       "<style scoped>\n",
       "    .dataframe tbody tr th:only-of-type {\n",
       "        vertical-align: middle;\n",
       "    }\n",
       "\n",
       "    .dataframe tbody tr th {\n",
       "        vertical-align: top;\n",
       "    }\n",
       "\n",
       "    .dataframe thead th {\n",
       "        text-align: right;\n",
       "    }\n",
       "</style>\n",
       "<table border=\"1\" class=\"dataframe\">\n",
       "  <thead>\n",
       "    <tr style=\"text-align: right;\">\n",
       "      <th></th>\n",
       "      <th>maas</th>\n",
       "      <th>yas</th>\n",
       "      <th>calismasaati</th>\n",
       "    </tr>\n",
       "  </thead>\n",
       "  <tbody>\n",
       "    <tr>\n",
       "      <th>atıl</th>\n",
       "      <td>-0.437372</td>\n",
       "      <td>-0.141363</td>\n",
       "      <td>-0.374619</td>\n",
       "    </tr>\n",
       "    <tr>\n",
       "      <th>zeynep</th>\n",
       "      <td>NaN</td>\n",
       "      <td>-0.135512</td>\n",
       "      <td>-0.297649</td>\n",
       "    </tr>\n",
       "    <tr>\n",
       "      <th>atlas</th>\n",
       "      <td>NaN</td>\n",
       "      <td>-0.345299</td>\n",
       "      <td>-0.624226</td>\n",
       "    </tr>\n",
       "    <tr>\n",
       "      <th>mehmet</th>\n",
       "      <td>NaN</td>\n",
       "      <td>NaN</td>\n",
       "      <td>NaN</td>\n",
       "    </tr>\n",
       "  </tbody>\n",
       "</table>\n",
       "</div>"
      ],
      "text/plain": [
       "            maas       yas  calismasaati\n",
       "atıl   -0.437372 -0.141363     -0.374619\n",
       "zeynep       NaN -0.135512     -0.297649\n",
       "atlas        NaN -0.345299     -0.624226\n",
       "mehmet       NaN       NaN           NaN"
      ]
     },
     "execution_count": 33,
     "metadata": {},
     "output_type": "execute_result"
    }
   ],
   "source": [
    "yeniDataFrame[booleanFrame]"
   ]
  },
  {
   "cell_type": "code",
   "execution_count": 34,
   "id": "95d07d8c",
   "metadata": {},
   "outputs": [
    {
     "data": {
      "text/html": [
       "<div>\n",
       "<style scoped>\n",
       "    .dataframe tbody tr th:only-of-type {\n",
       "        vertical-align: middle;\n",
       "    }\n",
       "\n",
       "    .dataframe tbody tr th {\n",
       "        vertical-align: top;\n",
       "    }\n",
       "\n",
       "    .dataframe thead th {\n",
       "        text-align: right;\n",
       "    }\n",
       "</style>\n",
       "<table border=\"1\" class=\"dataframe\">\n",
       "  <thead>\n",
       "    <tr style=\"text-align: right;\">\n",
       "      <th></th>\n",
       "      <th>maas</th>\n",
       "      <th>yas</th>\n",
       "      <th>calismasaati</th>\n",
       "    </tr>\n",
       "  </thead>\n",
       "  <tbody>\n",
       "    <tr>\n",
       "      <th>atıl</th>\n",
       "      <td>-0.437372</td>\n",
       "      <td>-0.141363</td>\n",
       "      <td>-0.374619</td>\n",
       "    </tr>\n",
       "    <tr>\n",
       "      <th>zeynep</th>\n",
       "      <td>NaN</td>\n",
       "      <td>-0.135512</td>\n",
       "      <td>-0.297649</td>\n",
       "    </tr>\n",
       "    <tr>\n",
       "      <th>atlas</th>\n",
       "      <td>NaN</td>\n",
       "      <td>-0.345299</td>\n",
       "      <td>-0.624226</td>\n",
       "    </tr>\n",
       "    <tr>\n",
       "      <th>mehmet</th>\n",
       "      <td>NaN</td>\n",
       "      <td>NaN</td>\n",
       "      <td>NaN</td>\n",
       "    </tr>\n",
       "  </tbody>\n",
       "</table>\n",
       "</div>"
      ],
      "text/plain": [
       "            maas       yas  calismasaati\n",
       "atıl   -0.437372 -0.141363     -0.374619\n",
       "zeynep       NaN -0.135512     -0.297649\n",
       "atlas        NaN -0.345299     -0.624226\n",
       "mehmet       NaN       NaN           NaN"
      ]
     },
     "execution_count": 34,
     "metadata": {},
     "output_type": "execute_result"
    }
   ],
   "source": [
    "yeniDataFrame[yeniDataFrame<0]"
   ]
  },
  {
   "cell_type": "code",
   "execution_count": 35,
   "id": "597cb04b",
   "metadata": {},
   "outputs": [
    {
     "data": {
      "text/html": [
       "<div>\n",
       "<style scoped>\n",
       "    .dataframe tbody tr th:only-of-type {\n",
       "        vertical-align: middle;\n",
       "    }\n",
       "\n",
       "    .dataframe tbody tr th {\n",
       "        vertical-align: top;\n",
       "    }\n",
       "\n",
       "    .dataframe thead th {\n",
       "        text-align: right;\n",
       "    }\n",
       "</style>\n",
       "<table border=\"1\" class=\"dataframe\">\n",
       "  <thead>\n",
       "    <tr style=\"text-align: right;\">\n",
       "      <th></th>\n",
       "      <th>maas</th>\n",
       "      <th>yas</th>\n",
       "      <th>calismasaati</th>\n",
       "    </tr>\n",
       "  </thead>\n",
       "  <tbody>\n",
       "    <tr>\n",
       "      <th>mehmet</th>\n",
       "      <td>0.060774</td>\n",
       "      <td>0.049862</td>\n",
       "      <td>0.743134</td>\n",
       "    </tr>\n",
       "  </tbody>\n",
       "</table>\n",
       "</div>"
      ],
      "text/plain": [
       "            maas       yas  calismasaati\n",
       "mehmet  0.060774  0.049862      0.743134"
      ]
     },
     "execution_count": 35,
     "metadata": {},
     "output_type": "execute_result"
    }
   ],
   "source": [
    "yeniDataFrame[yeniDataFrame[\"yas\"] > 0 ]"
   ]
  },
  {
   "cell_type": "code",
   "execution_count": 36,
   "id": "5613e684",
   "metadata": {},
   "outputs": [
    {
     "data": {
      "text/html": [
       "<div>\n",
       "<style scoped>\n",
       "    .dataframe tbody tr th:only-of-type {\n",
       "        vertical-align: middle;\n",
       "    }\n",
       "\n",
       "    .dataframe tbody tr th {\n",
       "        vertical-align: top;\n",
       "    }\n",
       "\n",
       "    .dataframe thead th {\n",
       "        text-align: right;\n",
       "    }\n",
       "</style>\n",
       "<table border=\"1\" class=\"dataframe\">\n",
       "  <thead>\n",
       "    <tr style=\"text-align: right;\">\n",
       "      <th></th>\n",
       "      <th>maas</th>\n",
       "      <th>yas</th>\n",
       "      <th>calismasaati</th>\n",
       "    </tr>\n",
       "  </thead>\n",
       "  <tbody>\n",
       "    <tr>\n",
       "      <th>atıl</th>\n",
       "      <td>-0.437372</td>\n",
       "      <td>-0.141363</td>\n",
       "      <td>-0.374619</td>\n",
       "    </tr>\n",
       "    <tr>\n",
       "      <th>zeynep</th>\n",
       "      <td>0.382285</td>\n",
       "      <td>-0.135512</td>\n",
       "      <td>-0.297649</td>\n",
       "    </tr>\n",
       "    <tr>\n",
       "      <th>atlas</th>\n",
       "      <td>1.131940</td>\n",
       "      <td>-0.345299</td>\n",
       "      <td>-0.624226</td>\n",
       "    </tr>\n",
       "    <tr>\n",
       "      <th>mehmet</th>\n",
       "      <td>0.060774</td>\n",
       "      <td>0.049862</td>\n",
       "      <td>0.743134</td>\n",
       "    </tr>\n",
       "  </tbody>\n",
       "</table>\n",
       "</div>"
      ],
      "text/plain": [
       "            maas       yas  calismasaati\n",
       "atıl   -0.437372 -0.141363     -0.374619\n",
       "zeynep  0.382285 -0.135512     -0.297649\n",
       "atlas   1.131940 -0.345299     -0.624226\n",
       "mehmet  0.060774  0.049862      0.743134"
      ]
     },
     "execution_count": 36,
     "metadata": {},
     "output_type": "execute_result"
    }
   ],
   "source": [
    "yeniDataFrame"
   ]
  },
  {
   "cell_type": "code",
   "execution_count": 37,
   "id": "2c763a45",
   "metadata": {},
   "outputs": [
    {
     "data": {
      "text/html": [
       "<div>\n",
       "<style scoped>\n",
       "    .dataframe tbody tr th:only-of-type {\n",
       "        vertical-align: middle;\n",
       "    }\n",
       "\n",
       "    .dataframe tbody tr th {\n",
       "        vertical-align: top;\n",
       "    }\n",
       "\n",
       "    .dataframe thead th {\n",
       "        text-align: right;\n",
       "    }\n",
       "</style>\n",
       "<table border=\"1\" class=\"dataframe\">\n",
       "  <thead>\n",
       "    <tr style=\"text-align: right;\">\n",
       "      <th></th>\n",
       "      <th>index</th>\n",
       "      <th>maas</th>\n",
       "      <th>yas</th>\n",
       "      <th>calismasaati</th>\n",
       "    </tr>\n",
       "  </thead>\n",
       "  <tbody>\n",
       "    <tr>\n",
       "      <th>0</th>\n",
       "      <td>atıl</td>\n",
       "      <td>-0.437372</td>\n",
       "      <td>-0.141363</td>\n",
       "      <td>-0.374619</td>\n",
       "    </tr>\n",
       "    <tr>\n",
       "      <th>1</th>\n",
       "      <td>zeynep</td>\n",
       "      <td>0.382285</td>\n",
       "      <td>-0.135512</td>\n",
       "      <td>-0.297649</td>\n",
       "    </tr>\n",
       "    <tr>\n",
       "      <th>2</th>\n",
       "      <td>atlas</td>\n",
       "      <td>1.131940</td>\n",
       "      <td>-0.345299</td>\n",
       "      <td>-0.624226</td>\n",
       "    </tr>\n",
       "    <tr>\n",
       "      <th>3</th>\n",
       "      <td>mehmet</td>\n",
       "      <td>0.060774</td>\n",
       "      <td>0.049862</td>\n",
       "      <td>0.743134</td>\n",
       "    </tr>\n",
       "  </tbody>\n",
       "</table>\n",
       "</div>"
      ],
      "text/plain": [
       "    index      maas       yas  calismasaati\n",
       "0    atıl -0.437372 -0.141363     -0.374619\n",
       "1  zeynep  0.382285 -0.135512     -0.297649\n",
       "2   atlas  1.131940 -0.345299     -0.624226\n",
       "3  mehmet  0.060774  0.049862      0.743134"
      ]
     },
     "execution_count": 37,
     "metadata": {},
     "output_type": "execute_result"
    }
   ],
   "source": [
    "yeniDataFrame.reset_index()"
   ]
  },
  {
   "cell_type": "code",
   "execution_count": 38,
   "id": "64231afc",
   "metadata": {},
   "outputs": [],
   "source": [
    "#indexleme yaptı #"
   ]
  },
  {
   "cell_type": "code",
   "execution_count": 39,
   "id": "f91d16d5",
   "metadata": {},
   "outputs": [
    {
     "data": {
      "text/html": [
       "<div>\n",
       "<style scoped>\n",
       "    .dataframe tbody tr th:only-of-type {\n",
       "        vertical-align: middle;\n",
       "    }\n",
       "\n",
       "    .dataframe tbody tr th {\n",
       "        vertical-align: top;\n",
       "    }\n",
       "\n",
       "    .dataframe thead th {\n",
       "        text-align: right;\n",
       "    }\n",
       "</style>\n",
       "<table border=\"1\" class=\"dataframe\">\n",
       "  <thead>\n",
       "    <tr style=\"text-align: right;\">\n",
       "      <th></th>\n",
       "      <th>maas</th>\n",
       "      <th>yas</th>\n",
       "      <th>calismasaati</th>\n",
       "    </tr>\n",
       "  </thead>\n",
       "  <tbody>\n",
       "    <tr>\n",
       "      <th>atıl</th>\n",
       "      <td>-0.437372</td>\n",
       "      <td>-0.141363</td>\n",
       "      <td>-0.374619</td>\n",
       "    </tr>\n",
       "    <tr>\n",
       "      <th>zeynep</th>\n",
       "      <td>0.382285</td>\n",
       "      <td>-0.135512</td>\n",
       "      <td>-0.297649</td>\n",
       "    </tr>\n",
       "    <tr>\n",
       "      <th>atlas</th>\n",
       "      <td>1.131940</td>\n",
       "      <td>-0.345299</td>\n",
       "      <td>-0.624226</td>\n",
       "    </tr>\n",
       "    <tr>\n",
       "      <th>mehmet</th>\n",
       "      <td>0.060774</td>\n",
       "      <td>0.049862</td>\n",
       "      <td>0.743134</td>\n",
       "    </tr>\n",
       "  </tbody>\n",
       "</table>\n",
       "</div>"
      ],
      "text/plain": [
       "            maas       yas  calismasaati\n",
       "atıl   -0.437372 -0.141363     -0.374619\n",
       "zeynep  0.382285 -0.135512     -0.297649\n",
       "atlas   1.131940 -0.345299     -0.624226\n",
       "mehmet  0.060774  0.049862      0.743134"
      ]
     },
     "execution_count": 39,
     "metadata": {},
     "output_type": "execute_result"
    }
   ],
   "source": [
    "yeniDataFrame"
   ]
  },
  {
   "cell_type": "code",
   "execution_count": 40,
   "id": "19a9f9f7",
   "metadata": {},
   "outputs": [],
   "source": [
    "#eskiye döndü ck kayıt emtedik\n"
   ]
  },
  {
   "cell_type": "code",
   "execution_count": 41,
   "id": "b08867f6",
   "metadata": {},
   "outputs": [],
   "source": [
    "yeniIndex= [\"ati\",\"zey\",\"atl\",\"meh\"]"
   ]
  },
  {
   "cell_type": "code",
   "execution_count": 42,
   "id": "541c5d1f",
   "metadata": {},
   "outputs": [],
   "source": [
    "yeniDataFrame[\"Yeni Index\"] =yeniIndex"
   ]
  },
  {
   "cell_type": "code",
   "execution_count": 43,
   "id": "1a7a97a2",
   "metadata": {},
   "outputs": [
    {
     "data": {
      "text/html": [
       "<div>\n",
       "<style scoped>\n",
       "    .dataframe tbody tr th:only-of-type {\n",
       "        vertical-align: middle;\n",
       "    }\n",
       "\n",
       "    .dataframe tbody tr th {\n",
       "        vertical-align: top;\n",
       "    }\n",
       "\n",
       "    .dataframe thead th {\n",
       "        text-align: right;\n",
       "    }\n",
       "</style>\n",
       "<table border=\"1\" class=\"dataframe\">\n",
       "  <thead>\n",
       "    <tr style=\"text-align: right;\">\n",
       "      <th></th>\n",
       "      <th>maas</th>\n",
       "      <th>yas</th>\n",
       "      <th>calismasaati</th>\n",
       "      <th>Yeni Index</th>\n",
       "    </tr>\n",
       "  </thead>\n",
       "  <tbody>\n",
       "    <tr>\n",
       "      <th>atıl</th>\n",
       "      <td>-0.437372</td>\n",
       "      <td>-0.141363</td>\n",
       "      <td>-0.374619</td>\n",
       "      <td>ati</td>\n",
       "    </tr>\n",
       "    <tr>\n",
       "      <th>zeynep</th>\n",
       "      <td>0.382285</td>\n",
       "      <td>-0.135512</td>\n",
       "      <td>-0.297649</td>\n",
       "      <td>zey</td>\n",
       "    </tr>\n",
       "    <tr>\n",
       "      <th>atlas</th>\n",
       "      <td>1.131940</td>\n",
       "      <td>-0.345299</td>\n",
       "      <td>-0.624226</td>\n",
       "      <td>atl</td>\n",
       "    </tr>\n",
       "    <tr>\n",
       "      <th>mehmet</th>\n",
       "      <td>0.060774</td>\n",
       "      <td>0.049862</td>\n",
       "      <td>0.743134</td>\n",
       "      <td>meh</td>\n",
       "    </tr>\n",
       "  </tbody>\n",
       "</table>\n",
       "</div>"
      ],
      "text/plain": [
       "            maas       yas  calismasaati Yeni Index\n",
       "atıl   -0.437372 -0.141363     -0.374619        ati\n",
       "zeynep  0.382285 -0.135512     -0.297649        zey\n",
       "atlas   1.131940 -0.345299     -0.624226        atl\n",
       "mehmet  0.060774  0.049862      0.743134        meh"
      ]
     },
     "execution_count": 43,
     "metadata": {},
     "output_type": "execute_result"
    }
   ],
   "source": [
    "yeniDataFrame\n"
   ]
  },
  {
   "cell_type": "code",
   "execution_count": 44,
   "id": "f957e221",
   "metadata": {},
   "outputs": [
    {
     "data": {
      "text/html": [
       "<div>\n",
       "<style scoped>\n",
       "    .dataframe tbody tr th:only-of-type {\n",
       "        vertical-align: middle;\n",
       "    }\n",
       "\n",
       "    .dataframe tbody tr th {\n",
       "        vertical-align: top;\n",
       "    }\n",
       "\n",
       "    .dataframe thead th {\n",
       "        text-align: right;\n",
       "    }\n",
       "</style>\n",
       "<table border=\"1\" class=\"dataframe\">\n",
       "  <thead>\n",
       "    <tr style=\"text-align: right;\">\n",
       "      <th></th>\n",
       "      <th>maas</th>\n",
       "      <th>yas</th>\n",
       "      <th>calismasaati</th>\n",
       "    </tr>\n",
       "    <tr>\n",
       "      <th>Yeni Index</th>\n",
       "      <th></th>\n",
       "      <th></th>\n",
       "      <th></th>\n",
       "    </tr>\n",
       "  </thead>\n",
       "  <tbody>\n",
       "    <tr>\n",
       "      <th>ati</th>\n",
       "      <td>-0.437372</td>\n",
       "      <td>-0.141363</td>\n",
       "      <td>-0.374619</td>\n",
       "    </tr>\n",
       "    <tr>\n",
       "      <th>zey</th>\n",
       "      <td>0.382285</td>\n",
       "      <td>-0.135512</td>\n",
       "      <td>-0.297649</td>\n",
       "    </tr>\n",
       "    <tr>\n",
       "      <th>atl</th>\n",
       "      <td>1.131940</td>\n",
       "      <td>-0.345299</td>\n",
       "      <td>-0.624226</td>\n",
       "    </tr>\n",
       "    <tr>\n",
       "      <th>meh</th>\n",
       "      <td>0.060774</td>\n",
       "      <td>0.049862</td>\n",
       "      <td>0.743134</td>\n",
       "    </tr>\n",
       "  </tbody>\n",
       "</table>\n",
       "</div>"
      ],
      "text/plain": [
       "                maas       yas  calismasaati\n",
       "Yeni Index                                  \n",
       "ati        -0.437372 -0.141363     -0.374619\n",
       "zey         0.382285 -0.135512     -0.297649\n",
       "atl         1.131940 -0.345299     -0.624226\n",
       "meh         0.060774  0.049862      0.743134"
      ]
     },
     "execution_count": 44,
     "metadata": {},
     "output_type": "execute_result"
    }
   ],
   "source": [
    "yeniDataFrame.set_index(\"Yeni Index\")"
   ]
  },
  {
   "cell_type": "code",
   "execution_count": 45,
   "id": "fc452bcf",
   "metadata": {},
   "outputs": [
    {
     "data": {
      "text/html": [
       "<div>\n",
       "<style scoped>\n",
       "    .dataframe tbody tr th:only-of-type {\n",
       "        vertical-align: middle;\n",
       "    }\n",
       "\n",
       "    .dataframe tbody tr th {\n",
       "        vertical-align: top;\n",
       "    }\n",
       "\n",
       "    .dataframe thead th {\n",
       "        text-align: right;\n",
       "    }\n",
       "</style>\n",
       "<table border=\"1\" class=\"dataframe\">\n",
       "  <thead>\n",
       "    <tr style=\"text-align: right;\">\n",
       "      <th></th>\n",
       "      <th>maas</th>\n",
       "      <th>yas</th>\n",
       "      <th>calismasaati</th>\n",
       "      <th>Yeni Index</th>\n",
       "    </tr>\n",
       "  </thead>\n",
       "  <tbody>\n",
       "    <tr>\n",
       "      <th>atıl</th>\n",
       "      <td>-0.437372</td>\n",
       "      <td>-0.141363</td>\n",
       "      <td>-0.374619</td>\n",
       "      <td>ati</td>\n",
       "    </tr>\n",
       "    <tr>\n",
       "      <th>zeynep</th>\n",
       "      <td>0.382285</td>\n",
       "      <td>-0.135512</td>\n",
       "      <td>-0.297649</td>\n",
       "      <td>zey</td>\n",
       "    </tr>\n",
       "    <tr>\n",
       "      <th>atlas</th>\n",
       "      <td>1.131940</td>\n",
       "      <td>-0.345299</td>\n",
       "      <td>-0.624226</td>\n",
       "      <td>atl</td>\n",
       "    </tr>\n",
       "    <tr>\n",
       "      <th>mehmet</th>\n",
       "      <td>0.060774</td>\n",
       "      <td>0.049862</td>\n",
       "      <td>0.743134</td>\n",
       "      <td>meh</td>\n",
       "    </tr>\n",
       "  </tbody>\n",
       "</table>\n",
       "</div>"
      ],
      "text/plain": [
       "            maas       yas  calismasaati Yeni Index\n",
       "atıl   -0.437372 -0.141363     -0.374619        ati\n",
       "zeynep  0.382285 -0.135512     -0.297649        zey\n",
       "atlas   1.131940 -0.345299     -0.624226        atl\n",
       "mehmet  0.060774  0.049862      0.743134        meh"
      ]
     },
     "execution_count": 45,
     "metadata": {},
     "output_type": "execute_result"
    }
   ],
   "source": [
    "yeniDataFrame"
   ]
  },
  {
   "cell_type": "code",
   "execution_count": 46,
   "id": "f85503ba",
   "metadata": {},
   "outputs": [],
   "source": [
    "yeniDataFrame.set_index(\"Yeni Index\",inplace=True)"
   ]
  },
  {
   "cell_type": "code",
   "execution_count": 47,
   "id": "ce404588",
   "metadata": {},
   "outputs": [
    {
     "data": {
      "text/html": [
       "<div>\n",
       "<style scoped>\n",
       "    .dataframe tbody tr th:only-of-type {\n",
       "        vertical-align: middle;\n",
       "    }\n",
       "\n",
       "    .dataframe tbody tr th {\n",
       "        vertical-align: top;\n",
       "    }\n",
       "\n",
       "    .dataframe thead th {\n",
       "        text-align: right;\n",
       "    }\n",
       "</style>\n",
       "<table border=\"1\" class=\"dataframe\">\n",
       "  <thead>\n",
       "    <tr style=\"text-align: right;\">\n",
       "      <th></th>\n",
       "      <th>maas</th>\n",
       "      <th>yas</th>\n",
       "      <th>calismasaati</th>\n",
       "    </tr>\n",
       "    <tr>\n",
       "      <th>Yeni Index</th>\n",
       "      <th></th>\n",
       "      <th></th>\n",
       "      <th></th>\n",
       "    </tr>\n",
       "  </thead>\n",
       "  <tbody>\n",
       "    <tr>\n",
       "      <th>ati</th>\n",
       "      <td>-0.437372</td>\n",
       "      <td>-0.141363</td>\n",
       "      <td>-0.374619</td>\n",
       "    </tr>\n",
       "    <tr>\n",
       "      <th>zey</th>\n",
       "      <td>0.382285</td>\n",
       "      <td>-0.135512</td>\n",
       "      <td>-0.297649</td>\n",
       "    </tr>\n",
       "    <tr>\n",
       "      <th>atl</th>\n",
       "      <td>1.131940</td>\n",
       "      <td>-0.345299</td>\n",
       "      <td>-0.624226</td>\n",
       "    </tr>\n",
       "    <tr>\n",
       "      <th>meh</th>\n",
       "      <td>0.060774</td>\n",
       "      <td>0.049862</td>\n",
       "      <td>0.743134</td>\n",
       "    </tr>\n",
       "  </tbody>\n",
       "</table>\n",
       "</div>"
      ],
      "text/plain": [
       "                maas       yas  calismasaati\n",
       "Yeni Index                                  \n",
       "ati        -0.437372 -0.141363     -0.374619\n",
       "zey         0.382285 -0.135512     -0.297649\n",
       "atl         1.131940 -0.345299     -0.624226\n",
       "meh         0.060774  0.049862      0.743134"
      ]
     },
     "execution_count": 47,
     "metadata": {},
     "output_type": "execute_result"
    }
   ],
   "source": [
    "yeniDataFrame"
   ]
  },
  {
   "cell_type": "code",
   "execution_count": 48,
   "id": "6c34bcd2",
   "metadata": {},
   "outputs": [
    {
     "data": {
      "text/plain": [
       "maas           -0.437372\n",
       "yas            -0.141363\n",
       "calismasaati   -0.374619\n",
       "Name: ati, dtype: float64"
      ]
     },
     "execution_count": 48,
     "metadata": {},
     "output_type": "execute_result"
    }
   ],
   "source": [
    "yeniDataFrame.loc[\"ati\"]"
   ]
  },
  {
   "cell_type": "code",
   "execution_count": 58,
   "id": "24bfe0f8",
   "metadata": {},
   "outputs": [],
   "source": [
    "ilkindex=[\"kuzey\",\"kuzey\",\"kuzey\",\"güney\",\"güney\",\"güney\"]"
   ]
  },
  {
   "cell_type": "code",
   "execution_count": 59,
   "id": "8e2967b9",
   "metadata": {},
   "outputs": [],
   "source": [
    "icindex=[\"homer\",\"bart\",\"marge\",\"cartman\",\"kenny\",\"kyle\"]"
   ]
  },
  {
   "cell_type": "code",
   "execution_count": 60,
   "id": "26e1c6d9",
   "metadata": {},
   "outputs": [],
   "source": [
    "birlesmisindex=list(zip(ilkindex,icindex))"
   ]
  },
  {
   "cell_type": "code",
   "execution_count": 61,
   "id": "ca6d8269",
   "metadata": {},
   "outputs": [
    {
     "data": {
      "text/plain": [
       "[('kuzey', 'homer'),\n",
       " ('kuzey', 'bart'),\n",
       " ('kuzey', 'marge'),\n",
       " ('güney', 'cartman'),\n",
       " ('güney', 'kenny'),\n",
       " ('güney', 'kyle')]"
      ]
     },
     "execution_count": 61,
     "metadata": {},
     "output_type": "execute_result"
    }
   ],
   "source": [
    "birlesmisindex"
   ]
  },
  {
   "cell_type": "code",
   "execution_count": 62,
   "id": "76177bcc",
   "metadata": {},
   "outputs": [],
   "source": [
    "birlesmisindex = pd.MultiIndex.from_tuples(birlesmisindex)"
   ]
  },
  {
   "cell_type": "code",
   "execution_count": 63,
   "id": "69dce442",
   "metadata": {},
   "outputs": [
    {
     "data": {
      "text/plain": [
       "MultiIndex([('kuzey',   'homer'),\n",
       "            ('kuzey',    'bart'),\n",
       "            ('kuzey',   'marge'),\n",
       "            ('güney', 'cartman'),\n",
       "            ('güney',   'kenny'),\n",
       "            ('güney',    'kyle')],\n",
       "           )"
      ]
     },
     "execution_count": 63,
     "metadata": {},
     "output_type": "execute_result"
    }
   ],
   "source": [
    "birlesmisindex\n"
   ]
  },
  {
   "cell_type": "code",
   "execution_count": 69,
   "id": "78f4447f",
   "metadata": {},
   "outputs": [],
   "source": [
    "cizgiList = [[40,\"a\"],[10,\"b\"],[30,\"c\"],[9,\"d\"],[12,\"k\"],[55,\"s\"]]"
   ]
  },
  {
   "cell_type": "code",
   "execution_count": 70,
   "id": "036980fb",
   "metadata": {},
   "outputs": [],
   "source": [
    "cizgiNumpy= np.array(cizgiList)"
   ]
  },
  {
   "cell_type": "code",
   "execution_count": 74,
   "id": "2c820043",
   "metadata": {},
   "outputs": [],
   "source": [
    "cizgiFilmDatasi= pd.DataFrame(cizgiNumpy,index=birlesmisindex,columns=[\"yas\",\"meslek\"])"
   ]
  },
  {
   "cell_type": "code",
   "execution_count": 75,
   "id": "3d6b6b68",
   "metadata": {},
   "outputs": [
    {
     "data": {
      "text/html": [
       "<div>\n",
       "<style scoped>\n",
       "    .dataframe tbody tr th:only-of-type {\n",
       "        vertical-align: middle;\n",
       "    }\n",
       "\n",
       "    .dataframe tbody tr th {\n",
       "        vertical-align: top;\n",
       "    }\n",
       "\n",
       "    .dataframe thead th {\n",
       "        text-align: right;\n",
       "    }\n",
       "</style>\n",
       "<table border=\"1\" class=\"dataframe\">\n",
       "  <thead>\n",
       "    <tr style=\"text-align: right;\">\n",
       "      <th></th>\n",
       "      <th></th>\n",
       "      <th>yas</th>\n",
       "      <th>meslek</th>\n",
       "    </tr>\n",
       "  </thead>\n",
       "  <tbody>\n",
       "    <tr>\n",
       "      <th rowspan=\"3\" valign=\"top\">kuzey</th>\n",
       "      <th>homer</th>\n",
       "      <td>40</td>\n",
       "      <td>a</td>\n",
       "    </tr>\n",
       "    <tr>\n",
       "      <th>bart</th>\n",
       "      <td>10</td>\n",
       "      <td>b</td>\n",
       "    </tr>\n",
       "    <tr>\n",
       "      <th>marge</th>\n",
       "      <td>30</td>\n",
       "      <td>c</td>\n",
       "    </tr>\n",
       "    <tr>\n",
       "      <th rowspan=\"3\" valign=\"top\">güney</th>\n",
       "      <th>cartman</th>\n",
       "      <td>9</td>\n",
       "      <td>d</td>\n",
       "    </tr>\n",
       "    <tr>\n",
       "      <th>kenny</th>\n",
       "      <td>12</td>\n",
       "      <td>k</td>\n",
       "    </tr>\n",
       "    <tr>\n",
       "      <th>kyle</th>\n",
       "      <td>55</td>\n",
       "      <td>s</td>\n",
       "    </tr>\n",
       "  </tbody>\n",
       "</table>\n",
       "</div>"
      ],
      "text/plain": [
       "              yas meslek\n",
       "kuzey homer    40      a\n",
       "      bart     10      b\n",
       "      marge    30      c\n",
       "güney cartman   9      d\n",
       "      kenny    12      k\n",
       "      kyle     55      s"
      ]
     },
     "execution_count": 75,
     "metadata": {},
     "output_type": "execute_result"
    }
   ],
   "source": [
    "cizgiFilmDatasi"
   ]
  },
  {
   "cell_type": "code",
   "execution_count": 76,
   "id": "2e5edabc",
   "metadata": {},
   "outputs": [
    {
     "data": {
      "text/html": [
       "<div>\n",
       "<style scoped>\n",
       "    .dataframe tbody tr th:only-of-type {\n",
       "        vertical-align: middle;\n",
       "    }\n",
       "\n",
       "    .dataframe tbody tr th {\n",
       "        vertical-align: top;\n",
       "    }\n",
       "\n",
       "    .dataframe thead th {\n",
       "        text-align: right;\n",
       "    }\n",
       "</style>\n",
       "<table border=\"1\" class=\"dataframe\">\n",
       "  <thead>\n",
       "    <tr style=\"text-align: right;\">\n",
       "      <th></th>\n",
       "      <th>yas</th>\n",
       "      <th>meslek</th>\n",
       "    </tr>\n",
       "  </thead>\n",
       "  <tbody>\n",
       "    <tr>\n",
       "      <th>homer</th>\n",
       "      <td>40</td>\n",
       "      <td>a</td>\n",
       "    </tr>\n",
       "    <tr>\n",
       "      <th>bart</th>\n",
       "      <td>10</td>\n",
       "      <td>b</td>\n",
       "    </tr>\n",
       "    <tr>\n",
       "      <th>marge</th>\n",
       "      <td>30</td>\n",
       "      <td>c</td>\n",
       "    </tr>\n",
       "  </tbody>\n",
       "</table>\n",
       "</div>"
      ],
      "text/plain": [
       "      yas meslek\n",
       "homer  40      a\n",
       "bart   10      b\n",
       "marge  30      c"
      ]
     },
     "execution_count": 76,
     "metadata": {},
     "output_type": "execute_result"
    }
   ],
   "source": [
    "cizgiFilmDatasi.loc[\"kuzey\"]"
   ]
  },
  {
   "cell_type": "code",
   "execution_count": 77,
   "id": "3e13782c",
   "metadata": {},
   "outputs": [
    {
     "data": {
      "text/plain": [
       "yas       10\n",
       "meslek     b\n",
       "Name: bart, dtype: object"
      ]
     },
     "execution_count": 77,
     "metadata": {},
     "output_type": "execute_result"
    }
   ],
   "source": [
    "cizgiFilmDatasi.loc[\"kuzey\"].loc[\"bart\"]"
   ]
  },
  {
   "cell_type": "code",
   "execution_count": 78,
   "id": "04b1e2e8",
   "metadata": {},
   "outputs": [],
   "source": [
    "cizgiFilmDatasi.index.names = [\"Film adı\",\"isim\"]"
   ]
  },
  {
   "cell_type": "code",
   "execution_count": 79,
   "id": "1f460da9",
   "metadata": {},
   "outputs": [
    {
     "data": {
      "text/html": [
       "<div>\n",
       "<style scoped>\n",
       "    .dataframe tbody tr th:only-of-type {\n",
       "        vertical-align: middle;\n",
       "    }\n",
       "\n",
       "    .dataframe tbody tr th {\n",
       "        vertical-align: top;\n",
       "    }\n",
       "\n",
       "    .dataframe thead th {\n",
       "        text-align: right;\n",
       "    }\n",
       "</style>\n",
       "<table border=\"1\" class=\"dataframe\">\n",
       "  <thead>\n",
       "    <tr style=\"text-align: right;\">\n",
       "      <th></th>\n",
       "      <th></th>\n",
       "      <th>yas</th>\n",
       "      <th>meslek</th>\n",
       "    </tr>\n",
       "    <tr>\n",
       "      <th>Film adı</th>\n",
       "      <th>isim</th>\n",
       "      <th></th>\n",
       "      <th></th>\n",
       "    </tr>\n",
       "  </thead>\n",
       "  <tbody>\n",
       "    <tr>\n",
       "      <th rowspan=\"3\" valign=\"top\">kuzey</th>\n",
       "      <th>homer</th>\n",
       "      <td>40</td>\n",
       "      <td>a</td>\n",
       "    </tr>\n",
       "    <tr>\n",
       "      <th>bart</th>\n",
       "      <td>10</td>\n",
       "      <td>b</td>\n",
       "    </tr>\n",
       "    <tr>\n",
       "      <th>marge</th>\n",
       "      <td>30</td>\n",
       "      <td>c</td>\n",
       "    </tr>\n",
       "    <tr>\n",
       "      <th rowspan=\"3\" valign=\"top\">güney</th>\n",
       "      <th>cartman</th>\n",
       "      <td>9</td>\n",
       "      <td>d</td>\n",
       "    </tr>\n",
       "    <tr>\n",
       "      <th>kenny</th>\n",
       "      <td>12</td>\n",
       "      <td>k</td>\n",
       "    </tr>\n",
       "    <tr>\n",
       "      <th>kyle</th>\n",
       "      <td>55</td>\n",
       "      <td>s</td>\n",
       "    </tr>\n",
       "  </tbody>\n",
       "</table>\n",
       "</div>"
      ],
      "text/plain": [
       "                 yas meslek\n",
       "Film adı isim              \n",
       "kuzey    homer    40      a\n",
       "         bart     10      b\n",
       "         marge    30      c\n",
       "güney    cartman   9      d\n",
       "         kenny    12      k\n",
       "         kyle     55      s"
      ]
     },
     "execution_count": 79,
     "metadata": {},
     "output_type": "execute_result"
    }
   ],
   "source": [
    "cizgiFilmDatasi\n"
   ]
  },
  {
   "cell_type": "code",
   "execution_count": null,
   "id": "37c91dfb",
   "metadata": {},
   "outputs": [],
   "source": []
  }
 ],
 "metadata": {
  "kernelspec": {
   "display_name": "Python 3 (ipykernel)",
   "language": "python",
   "name": "python3"
  },
  "language_info": {
   "codemirror_mode": {
    "name": "ipython",
    "version": 3
   },
   "file_extension": ".py",
   "mimetype": "text/x-python",
   "name": "python",
   "nbconvert_exporter": "python",
   "pygments_lexer": "ipython3",
   "version": "3.9.7"
  }
 },
 "nbformat": 4,
 "nbformat_minor": 5
}

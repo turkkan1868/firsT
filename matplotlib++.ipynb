{
 "cells": [
  {
   "cell_type": "code",
   "execution_count": 11,
   "id": "fc4e0553",
   "metadata": {},
   "outputs": [],
   "source": [
    "import numpy as np\n",
    "import matplotlib.pyplot as plt\n",
    "%matplotlib inline"
   ]
  },
  {
   "cell_type": "code",
   "execution_count": 12,
   "id": "7540e121",
   "metadata": {},
   "outputs": [],
   "source": [
    "nDizi=np.linspace(0,10,20)"
   ]
  },
  {
   "cell_type": "code",
   "execution_count": 13,
   "id": "3169e172",
   "metadata": {},
   "outputs": [
    {
     "data": {
      "text/plain": [
       "array([ 0.        ,  0.52631579,  1.05263158,  1.57894737,  2.10526316,\n",
       "        2.63157895,  3.15789474,  3.68421053,  4.21052632,  4.73684211,\n",
       "        5.26315789,  5.78947368,  6.31578947,  6.84210526,  7.36842105,\n",
       "        7.89473684,  8.42105263,  8.94736842,  9.47368421, 10.        ])"
      ]
     },
     "execution_count": 13,
     "metadata": {},
     "output_type": "execute_result"
    }
   ],
   "source": [
    "nDizi"
   ]
  },
  {
   "cell_type": "code",
   "execution_count": 14,
   "id": "7e0e7583",
   "metadata": {},
   "outputs": [],
   "source": [
    "nDizi2= nDizi ** 3"
   ]
  },
  {
   "cell_type": "code",
   "execution_count": 20,
   "id": "34e96da9",
   "metadata": {},
   "outputs": [
    {
     "data": {
      "text/plain": [
       "[<matplotlib.lines.Line2D at 0x28a42bb3f10>]"
      ]
     },
     "execution_count": 20,
     "metadata": {},
     "output_type": "execute_result"
    },
    {
     "data": {
      "image/png": "[encoded data removed]",
      "text/plain": [
       "<Figure size 432x288 with 1 Axes>"
      ]
     },
     "metadata": {
      "needs_background": "light"
     },
     "output_type": "display_data"
    }
   ],
   "source": [
    "(benimFigur,benimEksen)=pyt.subplots()\n",
    "benimEksen.plot(nDizi,nDizi2,color=\"#3A95A8\",alpha=0.3)#saydamlık\n",
    "benimEksen.plot(nDizi2,nDizi,\"b\")"
   ]
  },
  {
   "cell_type": "code",
   "execution_count": 38,
   "id": "ba0ad03c",
   "metadata": {},
   "outputs": [
    {
     "data": {
      "text/plain": [
       "[<matplotlib.lines.Line2D at 0x28a449b2910>]"
      ]
     },
     "execution_count": 38,
     "metadata": {},
     "output_type": "execute_result"
    },
    {
     "data": {
      "image/png": "[encoded data removed]",
      "text/plain": [
       "<Figure size 432x288 with 1 Axes>"
      ]
     },
     "metadata": {
      "needs_background": "light"
     },
     "output_type": "display_data"
    }
   ],
   "source": [
    "(yeniFigur,yeniEksen)=plt.subplots()\n",
    "yeniEksen.plot(nDizi,nDizi + 2,color=\"blue\",linewidth=2.0) #kalınlık#)\n",
    "yeniEksen.plot(nDizi,nDizi + 5,color=\"yellow\")\n",
    "yeniEksen.plot(nDizi,nDizi2 + 5,color=\"blue\",linestyle=\"--\") #çizgi şekli\n",
    "\n",
    "yeniEksen.plot(nDizi,nDizi2 + 66,color=\"#000000\",marker = \"o\",markersize=4,markerfacecolor=\"red\")"
   ]
  },
  {
   "cell_type": "code",
   "execution_count": 39,
   "id": "06d7564b",
   "metadata": {},
   "outputs": [],
   "source": [
    "#scatter#"
   ]
  },
  {
   "cell_type": "code",
   "execution_count": 40,
   "id": "216d78d3",
   "metadata": {},
   "outputs": [
    {
     "data": {
      "text/plain": [
       "<matplotlib.collections.PathCollection at 0x28a449ff4c0>"
      ]
     },
     "execution_count": 40,
     "metadata": {},
     "output_type": "execute_result"
    },
    {
     "data": {
      "image/png": "[encoded data removed]",
      "text/plain": [
       "<Figure size 432x288 with 1 Axes>"
      ]
     },
     "metadata": {
      "needs_background": "light"
     },
     "output_type": "display_data"
    }
   ],
   "source": [
    "plt.scatter(nDizi,nDizi2)"
   ]
  },
  {
   "cell_type": "code",
   "execution_count": 41,
   "id": "6154c317",
   "metadata": {},
   "outputs": [],
   "source": [
    "#histogram#\n"
   ]
  },
  {
   "cell_type": "code",
   "execution_count": 42,
   "id": "197cecb1",
   "metadata": {},
   "outputs": [],
   "source": [
    "yeniDizi = np.random.randint(0,100,50)\n"
   ]
  },
  {
   "cell_type": "code",
   "execution_count": 43,
   "id": "30539eb3",
   "metadata": {},
   "outputs": [
    {
     "data": {
      "text/plain": [
       "array([88, 20, 17, 35, 26, 21, 81, 98, 24, 13, 52, 79, 47, 94, 82, 85, 46,\n",
       "       51, 98, 78, 68, 29, 29, 59, 49, 98,  0, 99, 56, 92, 85, 15, 34, 22,\n",
       "        4, 67, 60, 66,  2,  5, 74,  2, 11, 57, 74, 28,  2,  2, 11, 78])"
      ]
     },
     "execution_count": 43,
     "metadata": {},
     "output_type": "execute_result"
    }
   ],
   "source": [
    "yeniDizi"
   ]
  },
  {
   "cell_type": "code",
   "execution_count": 44,
   "id": "943b5c41",
   "metadata": {},
   "outputs": [
    {
     "data": {
      "text/plain": [
       "(array([7., 5., 8., 2., 3., 5., 4., 5., 5., 6.]),\n",
       " array([ 0. ,  9.9, 19.8, 29.7, 39.6, 49.5, 59.4, 69.3, 79.2, 89.1, 99. ]),\n",
       " <BarContainer object of 10 artists>)"
      ]
     },
     "execution_count": 44,
     "metadata": {},
     "output_type": "execute_result"
    },
    {
     "data": {
      "image/png": "[encoded data removed]",
      "text/plain": [
       "<Figure size 432x288 with 1 Axes>"
      ]
     },
     "metadata": {
      "needs_background": "light"
     },
     "output_type": "display_data"
    }
   ],
   "source": [
    "plt.hist(yeniDizi)"
   ]
  },
  {
   "cell_type": "code",
   "execution_count": 45,
   "id": "84f09947",
   "metadata": {},
   "outputs": [],
   "source": [
    "#boxplot#"
   ]
  },
  {
   "cell_type": "code",
   "execution_count": 46,
   "id": "9fb1e601",
   "metadata": {},
   "outputs": [
    {
     "data": {
      "text/plain": [
       "{'whiskers': [<matplotlib.lines.Line2D at 0x28a430cfc10>,\n",
       "  <matplotlib.lines.Line2D at 0x28a430ba070>],\n",
       " 'caps': [<matplotlib.lines.Line2D at 0x28a430ba430>,\n",
       "  <matplotlib.lines.Line2D at 0x28a430ba700>],\n",
       " 'boxes': [<matplotlib.lines.Line2D at 0x28a430cf850>],\n",
       " 'medians': [<matplotlib.lines.Line2D at 0x28a430baaf0>],\n",
       " 'fliers': [<matplotlib.lines.Line2D at 0x28a430bafd0>],\n",
       " 'means': []}"
      ]
     },
     "execution_count": 46,
     "metadata": {},
     "output_type": "execute_result"
    },
    {
     "data": {
      "image/png": "[encoded data removed]",
      "text/plain": [
       "<Figure size 432x288 with 1 Axes>"
      ]
     },
     "metadata": {
      "needs_background": "light"
     },
     "output_type": "display_data"
    }
   ],
   "source": [
    "plt.boxplot(yeniDizi)"
   ]
  },
  {
   "cell_type": "code",
   "execution_count": null,
   "id": "5d16e142",
   "metadata": {},
   "outputs": [],
   "source": []
  }
 ],
 "metadata": {
  "kernelspec": {
   "display_name": "Python 3 (ipykernel)",
   "language": "python",
   "name": "python3"
  },
  "language_info": {
   "codemirror_mode": {
    "name": "ipython",
    "version": 3
   },
   "file_extension": ".py",
   "mimetype": "text/x-python",
   "name": "python",
   "nbconvert_exporter": "python",
   "pygments_lexer": "ipython3",
   "version": "3.9.7"
  }
 },
 "nbformat": 4,
 "nbformat_minor": 5
}

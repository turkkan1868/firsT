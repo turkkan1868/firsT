{
 "cells": [
  {
   "cell_type": "code",
   "execution_count": 6,
   "id": "50f9bd1c",
   "metadata": {},
   "outputs": [],
   "source": [
    "import numpy as np\n"
   ]
  },
  {
   "cell_type": "code",
   "execution_count": 8,
   "id": "234c2a76",
   "metadata": {},
   "outputs": [],
   "source": [
    "benimDizim=np.arange(0,15)"
   ]
  },
  {
   "cell_type": "code",
   "execution_count": 9,
   "id": "6c48093b",
   "metadata": {},
   "outputs": [
    {
     "data": {
      "text/plain": [
       "array([ 0,  1,  2,  3,  4,  5,  6,  7,  8,  9, 10, 11, 12, 13, 14])"
      ]
     },
     "execution_count": 9,
     "metadata": {},
     "output_type": "execute_result"
    }
   ],
   "source": [
    "benimDizim\n"
   ]
  },
  {
   "cell_type": "code",
   "execution_count": 10,
   "id": "f62af9be",
   "metadata": {},
   "outputs": [
    {
     "data": {
      "text/plain": [
       "array([3, 4])"
      ]
     },
     "execution_count": 10,
     "metadata": {},
     "output_type": "execute_result"
    }
   ],
   "source": [
    "benimDizim[3:5]"
   ]
  },
  {
   "cell_type": "code",
   "execution_count": 11,
   "id": "ecf10fa2",
   "metadata": {},
   "outputs": [],
   "source": [
    "benimDizim[3:8]= -5"
   ]
  },
  {
   "cell_type": "code",
   "execution_count": 12,
   "id": "328e2409",
   "metadata": {},
   "outputs": [
    {
     "data": {
      "text/plain": [
       "array([ 0,  1,  2, -5, -5, -5, -5, -5,  8,  9, 10, 11, 12, 13, 14])"
      ]
     },
     "execution_count": 12,
     "metadata": {},
     "output_type": "execute_result"
    }
   ],
   "source": [
    "benimDizim"
   ]
  },
  {
   "cell_type": "code",
   "execution_count": 13,
   "id": "d3f18bc7",
   "metadata": {},
   "outputs": [],
   "source": [
    "#elemanları değiştirdi kullanışlı \n"
   ]
  },
  {
   "cell_type": "code",
   "execution_count": 14,
   "id": "262b8c35",
   "metadata": {},
   "outputs": [],
   "source": [
    "baskaDizi = np.arange(0,24)\n",
    "\n"
   ]
  },
  {
   "cell_type": "code",
   "execution_count": 16,
   "id": "883a2bb6",
   "metadata": {},
   "outputs": [
    {
     "data": {
      "text/plain": [
       "array([ 0,  1,  2,  3,  4,  5,  6,  7,  8,  9, 10, 11, 12, 13, 14, 15, 16,\n",
       "       17, 18, 19, 20, 21, 22, 23])"
      ]
     },
     "execution_count": 16,
     "metadata": {},
     "output_type": "execute_result"
    }
   ],
   "source": [
    "baskaDizi\n"
   ]
  },
  {
   "cell_type": "code",
   "execution_count": 17,
   "id": "2c94f2e9",
   "metadata": {},
   "outputs": [],
   "source": [
    "sdizi = baskaDizi[3:9]"
   ]
  },
  {
   "cell_type": "code",
   "execution_count": 18,
   "id": "b658e8c1",
   "metadata": {},
   "outputs": [
    {
     "data": {
      "text/plain": [
       "array([3, 4, 5, 6, 7, 8])"
      ]
     },
     "execution_count": 18,
     "metadata": {},
     "output_type": "execute_result"
    }
   ],
   "source": [
    "sdizi"
   ]
  },
  {
   "cell_type": "code",
   "execution_count": 19,
   "id": "71c83bad",
   "metadata": {},
   "outputs": [],
   "source": [
    "#ikinci dize ayrı\n"
   ]
  },
  {
   "cell_type": "code",
   "execution_count": 23,
   "id": "4961deb8",
   "metadata": {},
   "outputs": [
    {
     "data": {
      "text/plain": [
       "700"
      ]
     },
     "execution_count": 23,
     "metadata": {},
     "output_type": "execute_result"
    }
   ],
   "source": [
    "#sdizi = 700# diziyi 700 yaptı\n",
    "sdizi"
   ]
  },
  {
   "cell_type": "code",
   "execution_count": 24,
   "id": "0946528d",
   "metadata": {
    "collapsed": true
   },
   "outputs": [
    {
     "ename": "TypeError",
     "evalue": "'int' object does not support item assignment",
     "output_type": "error",
     "traceback": [
      "\u001b[1;31m---------------------------------------------------------------------------\u001b[0m",
      "\u001b[1;31mTypeError\u001b[0m                                 Traceback (most recent call last)",
      "\u001b[1;32m~\\AppData\\Local\\Temp/ipykernel_3752/1577852360.py\u001b[0m in \u001b[0;36m<module>\u001b[1;34m\u001b[0m\n\u001b[1;32m----> 1\u001b[1;33m \u001b[0msdizi\u001b[0m\u001b[1;33m[\u001b[0m\u001b[1;33m:\u001b[0m\u001b[1;33m]\u001b[0m \u001b[1;33m=\u001b[0m \u001b[1;36m700\u001b[0m \u001b[1;31m#bütün elemanları 700 eşitler\u001b[0m\u001b[1;33m\u001b[0m\u001b[1;33m\u001b[0m\u001b[0m\n\u001b[0m\u001b[0;32m      2\u001b[0m \u001b[0msdizi\u001b[0m\u001b[1;33m\u001b[0m\u001b[1;33m\u001b[0m\u001b[0m\n",
      "\u001b[1;31mTypeError\u001b[0m: 'int' object does not support item assignment"
     ]
    }
   ],
   "source": [
    "#sdizi[:] = 700 #bütün elemanları 700 eşitler\n",
    "sdizi"
   ]
  },
  {
   "cell_type": "code",
   "execution_count": 5,
   "id": "ec2326f2",
   "metadata": {},
   "outputs": [
    {
     "ename": "NameError",
     "evalue": "name 'np' is not defined",
     "output_type": "error",
     "traceback": [
      "\u001b[1;31m---------------------------------------------------------------------------\u001b[0m",
      "\u001b[1;31mNameError\u001b[0m                                 Traceback (most recent call last)",
      "\u001b[1;32m~\\AppData\\Local\\Temp/ipykernel_2020/3997766196.py\u001b[0m in \u001b[0;36m<module>\u001b[1;34m\u001b[0m\n\u001b[1;32m----> 1\u001b[1;33m \u001b[0mornekDizi\u001b[0m \u001b[1;33m=\u001b[0m \u001b[0mnp\u001b[0m\u001b[1;33m.\u001b[0m\u001b[0marange\u001b[0m\u001b[1;33m(\u001b[0m\u001b[1;36m0\u001b[0m\u001b[1;33m,\u001b[0m\u001b[1;36m24\u001b[0m\u001b[1;33m)\u001b[0m\u001b[1;33m\u001b[0m\u001b[1;33m\u001b[0m\u001b[0m\n\u001b[0m",
      "\u001b[1;31mNameError\u001b[0m: name 'np' is not defined"
     ]
    }
   ],
   "source": [
    "ornekDizi = np.arange(0,24)"
   ]
  },
  {
   "cell_type": "raw",
   "id": "315a64e0",
   "metadata": {},
   "source": [
    "ornekKopya = ornekDizi.copy()"
   ]
  },
  {
   "cell_type": "code",
   "execution_count": 31,
   "id": "4f36468e",
   "metadata": {},
   "outputs": [],
   "source": [
    "#ornekKopya ornekDizi aynısını yazar"
   ]
  },
  {
   "cell_type": "code",
   "execution_count": 33,
   "id": "bd90f463",
   "metadata": {},
   "outputs": [],
   "source": [
    "#ornekKopyaS= ornekKopya[3:6]  # 3 den sonra 6incı indekse kadar al"
   ]
  },
  {
   "cell_type": "code",
   "execution_count": 35,
   "id": "44b3178f",
   "metadata": {},
   "outputs": [],
   "source": [
    "#ornekKopyaS[:]= 800 bütün elemanları 800 yaptık # kopyada da 800 oldu ama orjinalı bozmadık "
   ]
  },
  {
   "cell_type": "code",
   "execution_count": 36,
   "id": "df2358b9",
   "metadata": {},
   "outputs": [],
   "source": [
    "#MATRİX#\n",
    "\n"
   ]
  },
  {
   "cell_type": "code",
   "execution_count": 37,
   "id": "003c3e19",
   "metadata": {},
   "outputs": [],
   "source": [
    "benimListemm= [[10,20,30],[40,66,88]]\n"
   ]
  },
  {
   "cell_type": "code",
   "execution_count": 38,
   "id": "33d312ba",
   "metadata": {},
   "outputs": [],
   "source": [
    "benimMatris = np.array(benimListemm)"
   ]
  },
  {
   "cell_type": "code",
   "execution_count": 39,
   "id": "ed38890f",
   "metadata": {},
   "outputs": [
    {
     "data": {
      "text/plain": [
       "array([[10, 20, 30],\n",
       "       [40, 66, 88]])"
      ]
     },
     "execution_count": 39,
     "metadata": {},
     "output_type": "execute_result"
    }
   ],
   "source": [
    "benimMatris"
   ]
  },
  {
   "cell_type": "code",
   "execution_count": 40,
   "id": "566ab250",
   "metadata": {},
   "outputs": [],
   "source": [
    " # benimMatris[1:2] ile [1,2] aynı şey"
   ]
  },
  {
   "cell_type": "code",
   "execution_count": 41,
   "id": "ef8949a4",
   "metadata": {},
   "outputs": [],
   "source": [
    "#[2:,2]  0 1 2 yani 3. satırın 3. elemanı \n"
   ]
  },
  {
   "cell_type": "code",
   "execution_count": 1,
   "id": "3f5006bb",
   "metadata": {},
   "outputs": [],
   "source": [
    "#[2:0,:] 2. satırdan 0.indexli elemandan itibaren yazar\n"
   ]
  },
  {
   "cell_type": "code",
   "execution_count": 3,
   "id": "b525d5d1",
   "metadata": {},
   "outputs": [],
   "source": [
    "yeniListe= [[0,2,3,4],[5,6,7,8],[10,11,12,15 ]]"
   ]
  },
  {
   "cell_type": "code",
   "execution_count": 7,
   "id": "11a53c25",
   "metadata": {},
   "outputs": [],
   "source": [
    "yeniMatrix = np.array(yeniListe)"
   ]
  },
  {
   "cell_type": "code",
   "execution_count": 8,
   "id": "fcbad77b",
   "metadata": {},
   "outputs": [
    {
     "data": {
      "text/plain": [
       "array([[ 0,  2,  3,  4],\n",
       "       [ 5,  6,  7,  8],\n",
       "       [10, 11, 12, 15]])"
      ]
     },
     "execution_count": 8,
     "metadata": {},
     "output_type": "execute_result"
    }
   ],
   "source": [
    "yeniMatrix"
   ]
  },
  {
   "cell_type": "code",
   "execution_count": 10,
   "id": "9536ac81",
   "metadata": {},
   "outputs": [
    {
     "data": {
      "text/plain": [
       "array([[ 0,  2,  3,  4],\n",
       "       [10, 11, 12, 15]])"
      ]
     },
     "execution_count": 10,
     "metadata": {},
     "output_type": "execute_result"
    }
   ],
   "source": [
    "yeniMatrix[[0,2]]#iki kez parentez böyle olunca 0. ve  3 . satırı liste yazar"
   ]
  },
  {
   "cell_type": "code",
   "execution_count": 11,
   "id": "84d5debd",
   "metadata": {},
   "outputs": [],
   "source": [
    "##operasyonlar##\n"
   ]
  },
  {
   "cell_type": "code",
   "execution_count": 16,
   "id": "eb76dc12",
   "metadata": {},
   "outputs": [],
   "source": [
    "yeniDizi = np.random.randint(1,100,20)"
   ]
  },
  {
   "cell_type": "code",
   "execution_count": 17,
   "id": "44a16099",
   "metadata": {},
   "outputs": [
    {
     "data": {
      "text/plain": [
       "array([23, 77, 48,  5, 16, 45, 95, 33,  4, 68, 51, 55, 14,  8, 61,  5, 86,\n",
       "       81, 72, 45])"
      ]
     },
     "execution_count": 17,
     "metadata": {},
     "output_type": "execute_result"
    }
   ],
   "source": [
    "yeniDizi"
   ]
  },
  {
   "cell_type": "code",
   "execution_count": 18,
   "id": "c1a830c6",
   "metadata": {},
   "outputs": [
    {
     "data": {
      "text/plain": [
       "array([False,  True,  True, False, False,  True,  True,  True, False,\n",
       "        True,  True,  True, False, False,  True, False,  True,  True,\n",
       "        True,  True])"
      ]
     },
     "execution_count": 18,
     "metadata": {},
     "output_type": "execute_result"
    }
   ],
   "source": [
    "yeniDizi>24"
   ]
  },
  {
   "cell_type": "code",
   "execution_count": 19,
   "id": "a8180ded",
   "metadata": {},
   "outputs": [],
   "source": [
    "sonucDizi = yeniDizi > 24"
   ]
  },
  {
   "cell_type": "code",
   "execution_count": 20,
   "id": "4e29e3ca",
   "metadata": {},
   "outputs": [
    {
     "data": {
      "text/plain": [
       "array([77, 48, 45, 95, 33, 68, 51, 55, 61, 86, 81, 72, 45])"
      ]
     },
     "execution_count": 20,
     "metadata": {},
     "output_type": "execute_result"
    }
   ],
   "source": [
    "yeniDizi[sonucDizi]"
   ]
  },
  {
   "cell_type": "code",
   "execution_count": 22,
   "id": "9833b23b",
   "metadata": {},
   "outputs": [
    {
     "data": {
      "text/plain": [
       "array([77, 48, 45, 95, 33, 68, 51, 55, 61, 86, 81, 72, 45])"
      ]
     },
     "execution_count": 22,
     "metadata": {},
     "output_type": "execute_result"
    }
   ],
   "source": [
    "yeniDizi[yeniDizi>24] # böylede olr"
   ]
  },
  {
   "cell_type": "code",
   "execution_count": 24,
   "id": "afe5df8b",
   "metadata": {},
   "outputs": [],
   "source": [
    "sondizi = np.arange(0,24)"
   ]
  },
  {
   "cell_type": "code",
   "execution_count": 26,
   "id": "75dcef26",
   "metadata": {},
   "outputs": [
    {
     "data": {
      "text/plain": [
       "array([ 0,  1,  2,  3,  4,  5,  6,  7,  8,  9, 10, 11, 12, 13, 14, 15, 16,\n",
       "       17, 18, 19, 20, 21, 22, 23])"
      ]
     },
     "execution_count": 26,
     "metadata": {},
     "output_type": "execute_result"
    }
   ],
   "source": [
    "sondizi"
   ]
  },
  {
   "cell_type": "code",
   "execution_count": 27,
   "id": "db58dd7c",
   "metadata": {},
   "outputs": [
    {
     "data": {
      "text/plain": [
       "array([ 0,  2,  4,  6,  8, 10, 12, 14, 16, 18, 20, 22, 24, 26, 28, 30, 32,\n",
       "       34, 36, 38, 40, 42, 44, 46])"
      ]
     },
     "execution_count": 27,
     "metadata": {},
     "output_type": "execute_result"
    }
   ],
   "source": [
    "sondizi + sondizi"
   ]
  },
  {
   "cell_type": "code",
   "execution_count": 28,
   "id": "f39611f1",
   "metadata": {},
   "outputs": [
    {
     "data": {
      "text/plain": [
       "array([  0,   1,   4,   9,  16,  25,  36,  49,  64,  81, 100, 121, 144,\n",
       "       169, 196, 225, 256, 289, 324, 361, 400, 441, 484, 529])"
      ]
     },
     "execution_count": 28,
     "metadata": {},
     "output_type": "execute_result"
    }
   ],
   "source": [
    "sondizi*sondizi"
   ]
  },
  {
   "cell_type": "code",
   "execution_count": 29,
   "id": "300b123f",
   "metadata": {},
   "outputs": [],
   "source": [
    "#işlemler yukrd#"
   ]
  },
  {
   "cell_type": "code",
   "execution_count": 30,
   "id": "5dac8bb5",
   "metadata": {},
   "outputs": [
    {
     "data": {
      "text/plain": [
       "array([0.        , 1.        , 1.41421356, 1.73205081, 2.        ,\n",
       "       2.23606798, 2.44948974, 2.64575131, 2.82842712, 3.        ,\n",
       "       3.16227766, 3.31662479, 3.46410162, 3.60555128, 3.74165739,\n",
       "       3.87298335, 4.        , 4.12310563, 4.24264069, 4.35889894,\n",
       "       4.47213595, 4.58257569, 4.69041576, 4.79583152])"
      ]
     },
     "execution_count": 30,
     "metadata": {},
     "output_type": "execute_result"
    }
   ],
   "source": [
    "np.sqrt(sondizi)"
   ]
  },
  {
   "cell_type": "code",
   "execution_count": 31,
   "id": "3a435723",
   "metadata": {},
   "outputs": [],
   "source": [
    "#karekokalma#"
   ]
  },
  {
   "cell_type": "code",
   "execution_count": 32,
   "id": "7e09c1bd",
   "metadata": {},
   "outputs": [
    {
     "data": {
      "text/plain": [
       "23"
      ]
     },
     "execution_count": 32,
     "metadata": {},
     "output_type": "execute_result"
    }
   ],
   "source": [
    "np.max(sondizi)"
   ]
  },
  {
   "cell_type": "code",
   "execution_count": null,
   "id": "9bceab0e",
   "metadata": {},
   "outputs": [],
   "source": []
  }
 ],
 "metadata": {
  "kernelspec": {
   "display_name": "Python 3 (ipykernel)",
   "language": "python",
   "name": "python3"
  },
  "language_info": {
   "codemirror_mode": {
    "name": "ipython",
    "version": 3
   },
   "file_extension": ".py",
   "mimetype": "text/x-python",
   "name": "python",
   "nbconvert_exporter": "python",
   "pygments_lexer": "ipython3",
   "version": "3.9.7"
  }
 },
 "nbformat": 4,
 "nbformat_minor": 5
}

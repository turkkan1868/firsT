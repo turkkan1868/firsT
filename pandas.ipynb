{
 "cells": [
  {
   "cell_type": "code",
   "execution_count": 1,
   "id": "ed830d31",
   "metadata": {},
   "outputs": [],
   "source": [
    "import numpy as np\n",
    "import pandas as pd\n"
   ]
  },
  {
   "cell_type": "code",
   "execution_count": 2,
   "id": "2836eae6",
   "metadata": {},
   "outputs": [],
   "source": [
    "#SERİLER#"
   ]
  },
  {
   "cell_type": "code",
   "execution_count": 4,
   "id": "eb65834a",
   "metadata": {},
   "outputs": [],
   "source": [
    "benimSozluk = {\"Atill\":50,\"eda\" :52}"
   ]
  },
  {
   "cell_type": "code",
   "execution_count": 6,
   "id": "ed546d71",
   "metadata": {},
   "outputs": [
    {
     "data": {
      "text/plain": [
       "Atill    50\n",
       "eda      52\n",
       "dtype: int64"
      ]
     },
     "execution_count": 6,
     "metadata": {},
     "output_type": "execute_result"
    }
   ],
   "source": [
    " pd.Series(benimSozluk)"
   ]
  },
  {
   "cell_type": "code",
   "execution_count": 7,
   "id": "3997af25",
   "metadata": {},
   "outputs": [],
   "source": [
    "benimList = [40,20,30]"
   ]
  },
  {
   "cell_type": "code",
   "execution_count": 9,
   "id": "7fcd1173",
   "metadata": {},
   "outputs": [],
   "source": [
    "benimİsimler=[\"zeynep\",\"ayşe\",\"mehmet\"]"
   ]
  },
  {
   "cell_type": "markdown",
   "id": "d8ffb059",
   "metadata": {},
   "source": [
    "pd.Series(benimList)"
   ]
  },
  {
   "cell_type": "code",
   "execution_count": 10,
   "id": "11d59da2",
   "metadata": {},
   "outputs": [
    {
     "data": {
      "text/plain": [
       "0    40\n",
       "1    20\n",
       "2    30\n",
       "dtype: int64"
      ]
     },
     "execution_count": 10,
     "metadata": {},
     "output_type": "execute_result"
    }
   ],
   "source": [
    "pd.Series(benimList)"
   ]
  },
  {
   "cell_type": "code",
   "execution_count": 11,
   "id": "0e54dfe5",
   "metadata": {},
   "outputs": [
    {
     "data": {
      "text/plain": [
       "zeynep    40\n",
       "ayşe      20\n",
       "mehmet    30\n",
       "dtype: int64"
      ]
     },
     "execution_count": 11,
     "metadata": {},
     "output_type": "execute_result"
    }
   ],
   "source": [
    "pd.Series(benimList,benimİsimler)"
   ]
  },
  {
   "cell_type": "code",
   "execution_count": 12,
   "id": "85eb262d",
   "metadata": {},
   "outputs": [],
   "source": [
    "#diğer bir detaylı tanımı "
   ]
  },
  {
   "cell_type": "code",
   "execution_count": 13,
   "id": "b0aba1bf",
   "metadata": {},
   "outputs": [
    {
     "data": {
      "text/plain": [
       "zeynep    40\n",
       "ayşe      20\n",
       "mehmet    30\n",
       "dtype: int64"
      ]
     },
     "execution_count": 13,
     "metadata": {},
     "output_type": "execute_result"
    }
   ],
   "source": [
    "pd.Series(data=benimList,index=benimİsimler)"
   ]
  },
  {
   "cell_type": "code",
   "execution_count": 14,
   "id": "2b7cbe90",
   "metadata": {},
   "outputs": [],
   "source": [
    "dumpyDizisi = np.array([50,40,30])"
   ]
  },
  {
   "cell_type": "code",
   "execution_count": 15,
   "id": "69640798",
   "metadata": {},
   "outputs": [
    {
     "data": {
      "text/plain": [
       "array([50, 40, 30])"
      ]
     },
     "execution_count": 15,
     "metadata": {},
     "output_type": "execute_result"
    }
   ],
   "source": [
    "dumpyDizisi"
   ]
  },
  {
   "cell_type": "code",
   "execution_count": 17,
   "id": "b4eb221b",
   "metadata": {},
   "outputs": [
    {
     "data": {
      "text/plain": [
       "0    50\n",
       "1    40\n",
       "2    30\n",
       "dtype: int32"
      ]
     },
     "execution_count": 17,
     "metadata": {},
     "output_type": "execute_result"
    }
   ],
   "source": [
    "pd.Series(dumpyDizisi) # dizi olduğundan indexi oto attı"
   ]
  },
  {
   "cell_type": "code",
   "execution_count": 18,
   "id": "3c3f8874",
   "metadata": {},
   "outputs": [
    {
     "data": {
      "text/plain": [
       "zeynep    50\n",
       "ayşe      40\n",
       "mehmet    30\n",
       "dtype: int32"
      ]
     },
     "execution_count": 18,
     "metadata": {},
     "output_type": "execute_result"
    }
   ],
   "source": [
    "pd.Series(dumpyDizisi,benimİsimler)"
   ]
  },
  {
   "cell_type": "code",
   "execution_count": 20,
   "id": "786fa7ea",
   "metadata": {},
   "outputs": [
    {
     "data": {
      "text/plain": [
       "1     atil\n",
       "2    saman\n",
       "3    osman\n",
       "dtype: object"
      ]
     },
     "execution_count": 20,
     "metadata": {},
     "output_type": "execute_result"
    }
   ],
   "source": [
    "pd.Series([\"atil\",\"saman\",\"osman\"],[1,2,3])"
   ]
  },
  {
   "cell_type": "code",
   "execution_count": 21,
   "id": "228919e5",
   "metadata": {},
   "outputs": [],
   "source": [
    "yarismaSonuc= pd.Series([10,20,30],[\"hakan\",\"mehmet\",\"dayı\"])"
   ]
  },
  {
   "cell_type": "code",
   "execution_count": 22,
   "id": "9c70b27b",
   "metadata": {},
   "outputs": [
    {
     "data": {
      "text/plain": [
       "hakan     10\n",
       "mehmet    20\n",
       "dayı      30\n",
       "dtype: int64"
      ]
     },
     "execution_count": 22,
     "metadata": {},
     "output_type": "execute_result"
    }
   ],
   "source": [
    "yarismaSonuc"
   ]
  },
  {
   "cell_type": "code",
   "execution_count": 23,
   "id": "d8cffc7d",
   "metadata": {},
   "outputs": [],
   "source": [
    "yarismaSonuc2= pd.Series([101,202,340],[\"hakan\",\"mehmet\",\"dayı\"])"
   ]
  },
  {
   "cell_type": "code",
   "execution_count": 24,
   "id": "fc271f0b",
   "metadata": {},
   "outputs": [
    {
     "data": {
      "text/plain": [
       "hakan     101\n",
       "mehmet    202\n",
       "dayı      340\n",
       "dtype: int64"
      ]
     },
     "execution_count": 24,
     "metadata": {},
     "output_type": "execute_result"
    }
   ],
   "source": [
    "yarismaSonuc2"
   ]
  },
  {
   "cell_type": "code",
   "execution_count": 25,
   "id": "f318a68c",
   "metadata": {},
   "outputs": [
    {
     "data": {
      "text/plain": [
       "101"
      ]
     },
     "execution_count": 25,
     "metadata": {},
     "output_type": "execute_result"
    }
   ],
   "source": [
    "yarismaSonuc2[\"hakan\"]"
   ]
  },
  {
   "cell_type": "code",
   "execution_count": 27,
   "id": "396ae6d6",
   "metadata": {},
   "outputs": [],
   "source": [
    "sonSonuc = yarismaSonuc + yarismaSonuc2"
   ]
  },
  {
   "cell_type": "code",
   "execution_count": 28,
   "id": "44641c6f",
   "metadata": {},
   "outputs": [
    {
     "data": {
      "text/plain": [
       "hakan     111\n",
       "mehmet    222\n",
       "dayı      370\n",
       "dtype: int64"
      ]
     },
     "execution_count": 28,
     "metadata": {},
     "output_type": "execute_result"
    }
   ],
   "source": [
    "sonSonuc"
   ]
  },
  {
   "cell_type": "code",
   "execution_count": 29,
   "id": "474523f1",
   "metadata": {},
   "outputs": [],
   "source": [
    "farkliSeri= pd.Series([20,30,40,50],[\"a\",\"b\",\"c\",\"d\"])"
   ]
  },
  {
   "cell_type": "code",
   "execution_count": 30,
   "id": "0129fd90",
   "metadata": {},
   "outputs": [],
   "source": [
    "farkliSeri2= pd.Series([230,320,440,504],[\"a\",\"b\",\"f\",\"g\"])"
   ]
  },
  {
   "cell_type": "code",
   "execution_count": 33,
   "id": "4b6f7f58",
   "metadata": {},
   "outputs": [
    {
     "data": {
      "text/plain": [
       "a    250.0\n",
       "b    350.0\n",
       "c      NaN\n",
       "d      NaN\n",
       "f      NaN\n",
       "g      NaN\n",
       "dtype: float64"
      ]
     },
     "execution_count": 33,
     "metadata": {},
     "output_type": "execute_result"
    }
   ],
   "source": [
    "farkliSeri + farkliSeri2"
   ]
  },
  {
   "cell_type": "code",
   "execution_count": null,
   "id": "b29db535",
   "metadata": {},
   "outputs": [],
   "source": [
    "    "
   ]
  }
 ],
 "metadata": {
  "kernelspec": {
   "display_name": "Python 3 (ipykernel)",
   "language": "python",
   "name": "python3"
  },
  "language_info": {
   "codemirror_mode": {
    "name": "ipython",
    "version": 3
   },
   "file_extension": ".py",
   "mimetype": "text/x-python",
   "name": "python",
   "nbconvert_exporter": "python",
   "pygments_lexer": "ipython3",
   "version": "3.9.7"
  }
 },
 "nbformat": 4,
 "nbformat_minor": 5
}

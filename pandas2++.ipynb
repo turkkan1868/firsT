{
 "cells": [
  {
   "cell_type": "code",
   "execution_count": 1,
   "id": "b2d44a93",
   "metadata": {},
   "outputs": [],
   "source": [
    "import numpy as np\n",
    "import pandas as pd"
   ]
  },
  {
   "cell_type": "code",
   "execution_count": 4,
   "id": "f39b663c",
   "metadata": {},
   "outputs": [],
   "source": [
    "sozluk = {\"isim\":[\"ahmet\",\"mehmet\",\"ali\",\"garip\"],\n",
    "          \"spor\": [\"koşu\",\"yüzme\",\"basketbol\",\"koşu\"],\n",
    "         \"kalori\": [100,200,300,400]}"
   ]
  },
  {
   "cell_type": "code",
   "execution_count": 13,
   "id": "7221169e",
   "metadata": {},
   "outputs": [],
   "source": [
    "dataFrame1 = pd.DataFrame(sozluk,index=[0,2,3,3])"
   ]
  },
  {
   "cell_type": "code",
   "execution_count": 14,
   "id": "38c5340e",
   "metadata": {},
   "outputs": [],
   "source": [
    "sozluk2 = {\"isim\":[\"ahme2t\",\"mehmet2\",\"ali2\",\"garip2\"],\n",
    "          \"spor\": [\"koşu\",\"yüzme\",\"basketbol\",\"koşu\"],\n",
    "         \"kalori\": [1300,2030,3030,4030]}"
   ]
  },
  {
   "cell_type": "code",
   "execution_count": 15,
   "id": "6253c7ec",
   "metadata": {},
   "outputs": [],
   "source": [
    "dataFrame2=pd.DataFrame(sozluk2,index=[1,2,3,4])"
   ]
  },
  {
   "cell_type": "code",
   "execution_count": 11,
   "id": "1a5eb3b5",
   "metadata": {},
   "outputs": [],
   "source": [
    "sozluk3 = {\"isim\":[\"ahmet3\",\"mehmet3\",\"ali3\",\"garip3\"],\n",
    "          \"spor\": [\"koşu\",\"yüzme\",\"basketbol\",\"koşu\"],\n",
    "         \"kalori\": [3100,1200,1300,470]}"
   ]
  },
  {
   "cell_type": "code",
   "execution_count": 16,
   "id": "65c5c7a9",
   "metadata": {},
   "outputs": [],
   "source": [
    "dataFrame3= pd.DataFrame(sozluk3,index=[5,6,7,8])"
   ]
  },
  {
   "cell_type": "code",
   "execution_count": 17,
   "id": "79c298e5",
   "metadata": {},
   "outputs": [],
   "source": [
    "#concatenetaion birleştirme#\n"
   ]
  },
  {
   "cell_type": "code",
   "execution_count": 19,
   "id": "1c237e4a",
   "metadata": {},
   "outputs": [
    {
     "data": {
      "text/html": [
       "<div>\n",
       "<style scoped>\n",
       "    .dataframe tbody tr th:only-of-type {\n",
       "        vertical-align: middle;\n",
       "    }\n",
       "\n",
       "    .dataframe tbody tr th {\n",
       "        vertical-align: top;\n",
       "    }\n",
       "\n",
       "    .dataframe thead th {\n",
       "        text-align: right;\n",
       "    }\n",
       "</style>\n",
       "<table border=\"1\" class=\"dataframe\">\n",
       "  <thead>\n",
       "    <tr style=\"text-align: right;\">\n",
       "      <th></th>\n",
       "      <th>isim</th>\n",
       "      <th>spor</th>\n",
       "      <th>kalori</th>\n",
       "    </tr>\n",
       "  </thead>\n",
       "  <tbody>\n",
       "    <tr>\n",
       "      <th>0</th>\n",
       "      <td>ahmet3</td>\n",
       "      <td>koşu</td>\n",
       "      <td>3100</td>\n",
       "    </tr>\n",
       "    <tr>\n",
       "      <th>2</th>\n",
       "      <td>mehmet3</td>\n",
       "      <td>yüzme</td>\n",
       "      <td>1200</td>\n",
       "    </tr>\n",
       "    <tr>\n",
       "      <th>3</th>\n",
       "      <td>ali3</td>\n",
       "      <td>basketbol</td>\n",
       "      <td>1300</td>\n",
       "    </tr>\n",
       "    <tr>\n",
       "      <th>3</th>\n",
       "      <td>garip3</td>\n",
       "      <td>koşu</td>\n",
       "      <td>470</td>\n",
       "    </tr>\n",
       "    <tr>\n",
       "      <th>1</th>\n",
       "      <td>ahme2t</td>\n",
       "      <td>koşu</td>\n",
       "      <td>1300</td>\n",
       "    </tr>\n",
       "    <tr>\n",
       "      <th>2</th>\n",
       "      <td>mehmet2</td>\n",
       "      <td>yüzme</td>\n",
       "      <td>2030</td>\n",
       "    </tr>\n",
       "    <tr>\n",
       "      <th>3</th>\n",
       "      <td>ali2</td>\n",
       "      <td>basketbol</td>\n",
       "      <td>3030</td>\n",
       "    </tr>\n",
       "    <tr>\n",
       "      <th>4</th>\n",
       "      <td>garip2</td>\n",
       "      <td>koşu</td>\n",
       "      <td>4030</td>\n",
       "    </tr>\n",
       "    <tr>\n",
       "      <th>5</th>\n",
       "      <td>ahmet3</td>\n",
       "      <td>koşu</td>\n",
       "      <td>3100</td>\n",
       "    </tr>\n",
       "    <tr>\n",
       "      <th>6</th>\n",
       "      <td>mehmet3</td>\n",
       "      <td>yüzme</td>\n",
       "      <td>1200</td>\n",
       "    </tr>\n",
       "    <tr>\n",
       "      <th>7</th>\n",
       "      <td>ali3</td>\n",
       "      <td>basketbol</td>\n",
       "      <td>1300</td>\n",
       "    </tr>\n",
       "    <tr>\n",
       "      <th>8</th>\n",
       "      <td>garip3</td>\n",
       "      <td>koşu</td>\n",
       "      <td>470</td>\n",
       "    </tr>\n",
       "  </tbody>\n",
       "</table>\n",
       "</div>"
      ],
      "text/plain": [
       "      isim       spor  kalori\n",
       "0   ahmet3       koşu    3100\n",
       "2  mehmet3      yüzme    1200\n",
       "3     ali3  basketbol    1300\n",
       "3   garip3       koşu     470\n",
       "1   ahme2t       koşu    1300\n",
       "2  mehmet2      yüzme    2030\n",
       "3     ali2  basketbol    3030\n",
       "4   garip2       koşu    4030\n",
       "5   ahmet3       koşu    3100\n",
       "6  mehmet3      yüzme    1200\n",
       "7     ali3  basketbol    1300\n",
       "8   garip3       koşu     470"
      ]
     },
     "execution_count": 19,
     "metadata": {},
     "output_type": "execute_result"
    }
   ],
   "source": [
    "pd.concat([dataFrame1,dataFrame2,dataFrame3]) # kolon isimleri yok #"
   ]
  },
  {
   "cell_type": "code",
   "execution_count": 20,
   "id": "0abdb2cd",
   "metadata": {},
   "outputs": [],
   "source": [
    "#eger hepsini yazarsak nan değerler olur altta#\n"
   ]
  },
  {
   "cell_type": "code",
   "execution_count": 23,
   "id": "fa2372c7",
   "metadata": {},
   "outputs": [],
   "source": [
    " #pd.concat([dataFrame1,dataFrame2,dataFrame3],axis = 1) "
   ]
  },
  {
   "cell_type": "code",
   "execution_count": 24,
   "id": "81ac6667",
   "metadata": {},
   "outputs": [],
   "source": [
    "#merge kaynaştırma birleştirme#"
   ]
  },
  {
   "cell_type": "code",
   "execution_count": 28,
   "id": "e822e64d",
   "metadata": {},
   "outputs": [],
   "source": [
    "mergeS= {\"isim\":[\"ahmet\",\"mehmet\",\"ali\"],\"spor\":[\"koşu\",\"yüzme\",\"basketbol\"]}"
   ]
  },
  {
   "cell_type": "code",
   "execution_count": 29,
   "id": "e781543e",
   "metadata": {},
   "outputs": [],
   "source": [
    "mergeData = pd.DataFrame(mergeS)"
   ]
  },
  {
   "cell_type": "code",
   "execution_count": 32,
   "id": "106f1590",
   "metadata": {},
   "outputs": [],
   "source": [
    "mergeS2= {\"isim\":[\"ahmet\",\"mehmet\",\"ali\"],\"kalori\":[100,200,300]}"
   ]
  },
  {
   "cell_type": "code",
   "execution_count": 33,
   "id": "b8e5c1bb",
   "metadata": {},
   "outputs": [],
   "source": [
    "mergeData2= pd.DataFrame(mergeS2)"
   ]
  },
  {
   "cell_type": "code",
   "execution_count": 34,
   "id": "31a4bf1e",
   "metadata": {},
   "outputs": [
    {
     "data": {
      "text/html": [
       "<div>\n",
       "<style scoped>\n",
       "    .dataframe tbody tr th:only-of-type {\n",
       "        vertical-align: middle;\n",
       "    }\n",
       "\n",
       "    .dataframe tbody tr th {\n",
       "        vertical-align: top;\n",
       "    }\n",
       "\n",
       "    .dataframe thead th {\n",
       "        text-align: right;\n",
       "    }\n",
       "</style>\n",
       "<table border=\"1\" class=\"dataframe\">\n",
       "  <thead>\n",
       "    <tr style=\"text-align: right;\">\n",
       "      <th></th>\n",
       "      <th>isim</th>\n",
       "      <th>kalori</th>\n",
       "    </tr>\n",
       "  </thead>\n",
       "  <tbody>\n",
       "    <tr>\n",
       "      <th>0</th>\n",
       "      <td>ahmet</td>\n",
       "      <td>100</td>\n",
       "    </tr>\n",
       "    <tr>\n",
       "      <th>1</th>\n",
       "      <td>mehmet</td>\n",
       "      <td>200</td>\n",
       "    </tr>\n",
       "    <tr>\n",
       "      <th>2</th>\n",
       "      <td>ali</td>\n",
       "      <td>300</td>\n",
       "    </tr>\n",
       "  </tbody>\n",
       "</table>\n",
       "</div>"
      ],
      "text/plain": [
       "     isim  kalori\n",
       "0   ahmet     100\n",
       "1  mehmet     200\n",
       "2     ali     300"
      ]
     },
     "execution_count": 34,
     "metadata": {},
     "output_type": "execute_result"
    }
   ],
   "source": [
    "mergeData2"
   ]
  },
  {
   "cell_type": "code",
   "execution_count": 37,
   "id": "e84ebe1f",
   "metadata": {},
   "outputs": [
    {
     "data": {
      "text/html": [
       "<div>\n",
       "<style scoped>\n",
       "    .dataframe tbody tr th:only-of-type {\n",
       "        vertical-align: middle;\n",
       "    }\n",
       "\n",
       "    .dataframe tbody tr th {\n",
       "        vertical-align: top;\n",
       "    }\n",
       "\n",
       "    .dataframe thead th {\n",
       "        text-align: right;\n",
       "    }\n",
       "</style>\n",
       "<table border=\"1\" class=\"dataframe\">\n",
       "  <thead>\n",
       "    <tr style=\"text-align: right;\">\n",
       "      <th></th>\n",
       "      <th>isim</th>\n",
       "      <th>spor</th>\n",
       "      <th>kalori</th>\n",
       "    </tr>\n",
       "  </thead>\n",
       "  <tbody>\n",
       "    <tr>\n",
       "      <th>0</th>\n",
       "      <td>ahmet</td>\n",
       "      <td>koşu</td>\n",
       "      <td>100</td>\n",
       "    </tr>\n",
       "    <tr>\n",
       "      <th>1</th>\n",
       "      <td>mehmet</td>\n",
       "      <td>yüzme</td>\n",
       "      <td>200</td>\n",
       "    </tr>\n",
       "    <tr>\n",
       "      <th>2</th>\n",
       "      <td>ali</td>\n",
       "      <td>basketbol</td>\n",
       "      <td>300</td>\n",
       "    </tr>\n",
       "  </tbody>\n",
       "</table>\n",
       "</div>"
      ],
      "text/plain": [
       "     isim       spor  kalori\n",
       "0   ahmet       koşu     100\n",
       "1  mehmet      yüzme     200\n",
       "2     ali  basketbol     300"
      ]
     },
     "execution_count": 37,
     "metadata": {},
     "output_type": "execute_result"
    }
   ],
   "source": [
    "pd.merge(mergeData,mergeData2,on=\"isim\")"
   ]
  },
  {
   "cell_type": "code",
   "execution_count": 40,
   "id": "c8df0b0d",
   "metadata": {},
   "outputs": [],
   "source": [
    "maasSozluk = {\"isim\":[\"atil\",\"zeynep\",\"mehmet\"],\n",
    "             \"departman\": [\"yazılım\",\"satış\",\"kargo\"],\n",
    "             \"maas\":[200,300,400]}"
   ]
  },
  {
   "cell_type": "code",
   "execution_count": 41,
   "id": "0db078a6",
   "metadata": {},
   "outputs": [],
   "source": [
    "maasData = pd.DataFrame(maasSozluk)"
   ]
  },
  {
   "cell_type": "code",
   "execution_count": 42,
   "id": "6c110421",
   "metadata": {},
   "outputs": [
    {
     "data": {
      "text/html": [
       "<div>\n",
       "<style scoped>\n",
       "    .dataframe tbody tr th:only-of-type {\n",
       "        vertical-align: middle;\n",
       "    }\n",
       "\n",
       "    .dataframe tbody tr th {\n",
       "        vertical-align: top;\n",
       "    }\n",
       "\n",
       "    .dataframe thead th {\n",
       "        text-align: right;\n",
       "    }\n",
       "</style>\n",
       "<table border=\"1\" class=\"dataframe\">\n",
       "  <thead>\n",
       "    <tr style=\"text-align: right;\">\n",
       "      <th></th>\n",
       "      <th>isim</th>\n",
       "      <th>departman</th>\n",
       "      <th>maas</th>\n",
       "    </tr>\n",
       "  </thead>\n",
       "  <tbody>\n",
       "    <tr>\n",
       "      <th>0</th>\n",
       "      <td>atil</td>\n",
       "      <td>yazılım</td>\n",
       "      <td>200</td>\n",
       "    </tr>\n",
       "    <tr>\n",
       "      <th>1</th>\n",
       "      <td>zeynep</td>\n",
       "      <td>satış</td>\n",
       "      <td>300</td>\n",
       "    </tr>\n",
       "    <tr>\n",
       "      <th>2</th>\n",
       "      <td>mehmet</td>\n",
       "      <td>kargo</td>\n",
       "      <td>400</td>\n",
       "    </tr>\n",
       "  </tbody>\n",
       "</table>\n",
       "</div>"
      ],
      "text/plain": [
       "     isim departman  maas\n",
       "0    atil   yazılım   200\n",
       "1  zeynep     satış   300\n",
       "2  mehmet     kargo   400"
      ]
     },
     "execution_count": 42,
     "metadata": {},
     "output_type": "execute_result"
    }
   ],
   "source": [
    "maasData"
   ]
  },
  {
   "cell_type": "code",
   "execution_count": 43,
   "id": "ef35c28a",
   "metadata": {},
   "outputs": [
    {
     "data": {
      "text/plain": [
       "0    yazılım\n",
       "1      satış\n",
       "2      kargo\n",
       "Name: departman, dtype: object"
      ]
     },
     "execution_count": 43,
     "metadata": {},
     "output_type": "execute_result"
    }
   ],
   "source": [
    "maasData[\"departman\"]"
   ]
  },
  {
   "cell_type": "code",
   "execution_count": 45,
   "id": "8172c095",
   "metadata": {},
   "outputs": [
    {
     "data": {
      "text/plain": [
       "array(['yazılım', 'satış', 'kargo'], dtype=object)"
      ]
     },
     "execution_count": 45,
     "metadata": {},
     "output_type": "execute_result"
    }
   ],
   "source": [
    "maasData[\"departman\"].unique()"
   ]
  },
  {
   "cell_type": "code",
   "execution_count": 47,
   "id": "b614f253",
   "metadata": {},
   "outputs": [
    {
     "data": {
      "text/plain": [
       "3"
      ]
     },
     "execution_count": 47,
     "metadata": {},
     "output_type": "execute_result"
    }
   ],
   "source": [
    "maasData[\"departman\"].nunique() # kaç tane departman var "
   ]
  },
  {
   "cell_type": "code",
   "execution_count": 48,
   "id": "30f70dff",
   "metadata": {},
   "outputs": [
    {
     "data": {
      "text/plain": [
       "yazılım    1\n",
       "satış      1\n",
       "kargo      1\n",
       "Name: departman, dtype: int64"
      ]
     },
     "execution_count": 48,
     "metadata": {},
     "output_type": "execute_result"
    }
   ],
   "source": [
    "maasData[\"departman\"].value_counts()"
   ]
  },
  {
   "cell_type": "code",
   "execution_count": 52,
   "id": "74e6471a",
   "metadata": {},
   "outputs": [],
   "source": [
    "def bruttenNete(maas):\n",
    "    return maas * 0.66"
   ]
  },
  {
   "cell_type": "code",
   "execution_count": 53,
   "id": "b1eec997",
   "metadata": {},
   "outputs": [
    {
     "data": {
      "text/plain": [
       "0    132.0\n",
       "1    198.0\n",
       "2    264.0\n",
       "Name: maas, dtype: float64"
      ]
     },
     "execution_count": 53,
     "metadata": {},
     "output_type": "execute_result"
    }
   ],
   "source": [
    "maasData[\"maas\"].apply(bruttenNete)"
   ]
  },
  {
   "cell_type": "code",
   "execution_count": 55,
   "id": "59354f2b",
   "metadata": {},
   "outputs": [
    {
     "data": {
      "text/html": [
       "<div>\n",
       "<style scoped>\n",
       "    .dataframe tbody tr th:only-of-type {\n",
       "        vertical-align: middle;\n",
       "    }\n",
       "\n",
       "    .dataframe tbody tr th {\n",
       "        vertical-align: top;\n",
       "    }\n",
       "\n",
       "    .dataframe thead th {\n",
       "        text-align: right;\n",
       "    }\n",
       "</style>\n",
       "<table border=\"1\" class=\"dataframe\">\n",
       "  <thead>\n",
       "    <tr style=\"text-align: right;\">\n",
       "      <th></th>\n",
       "      <th>isim</th>\n",
       "      <th>departman</th>\n",
       "      <th>maas</th>\n",
       "    </tr>\n",
       "  </thead>\n",
       "  <tbody>\n",
       "    <tr>\n",
       "      <th>0</th>\n",
       "      <td>False</td>\n",
       "      <td>False</td>\n",
       "      <td>False</td>\n",
       "    </tr>\n",
       "    <tr>\n",
       "      <th>1</th>\n",
       "      <td>False</td>\n",
       "      <td>False</td>\n",
       "      <td>False</td>\n",
       "    </tr>\n",
       "    <tr>\n",
       "      <th>2</th>\n",
       "      <td>False</td>\n",
       "      <td>False</td>\n",
       "      <td>False</td>\n",
       "    </tr>\n",
       "  </tbody>\n",
       "</table>\n",
       "</div>"
      ],
      "text/plain": [
       "    isim  departman   maas\n",
       "0  False      False  False\n",
       "1  False      False  False\n",
       "2  False      False  False"
      ]
     },
     "execution_count": 55,
     "metadata": {},
     "output_type": "execute_result"
    }
   ],
   "source": [
    "maasData.isnull()# boş yer varmı yokmu"
   ]
  },
  {
   "cell_type": "code",
   "execution_count": 69,
   "id": "de2c8bbc",
   "metadata": {},
   "outputs": [],
   "source": [
    "yeniBirVeri={\"karakter sınıfı\":[\"kuzey\",\"güney\",\"güney\"],\n",
    "            \"karakter ismi\": [\"maymn\",\"sezer\",\"sezer\"],\n",
    "            \"karakter yas\": [10,20,10]}"
   ]
  },
  {
   "cell_type": "code",
   "execution_count": 70,
   "id": "4b0b7000",
   "metadata": {},
   "outputs": [],
   "source": [
    "karakterData = pd.DataFrame(yeniBirVeri)"
   ]
  },
  {
   "cell_type": "code",
   "execution_count": 71,
   "id": "219e6ade",
   "metadata": {},
   "outputs": [
    {
     "data": {
      "text/html": [
       "<div>\n",
       "<style scoped>\n",
       "    .dataframe tbody tr th:only-of-type {\n",
       "        vertical-align: middle;\n",
       "    }\n",
       "\n",
       "    .dataframe tbody tr th {\n",
       "        vertical-align: top;\n",
       "    }\n",
       "\n",
       "    .dataframe thead th {\n",
       "        text-align: right;\n",
       "    }\n",
       "</style>\n",
       "<table border=\"1\" class=\"dataframe\">\n",
       "  <thead>\n",
       "    <tr style=\"text-align: right;\">\n",
       "      <th></th>\n",
       "      <th>karakter sınıfı</th>\n",
       "      <th>karakter ismi</th>\n",
       "      <th>karakter yas</th>\n",
       "    </tr>\n",
       "  </thead>\n",
       "  <tbody>\n",
       "    <tr>\n",
       "      <th>0</th>\n",
       "      <td>kuzey</td>\n",
       "      <td>maymn</td>\n",
       "      <td>10</td>\n",
       "    </tr>\n",
       "    <tr>\n",
       "      <th>1</th>\n",
       "      <td>güney</td>\n",
       "      <td>sezer</td>\n",
       "      <td>20</td>\n",
       "    </tr>\n",
       "    <tr>\n",
       "      <th>2</th>\n",
       "      <td>güney</td>\n",
       "      <td>sezer</td>\n",
       "      <td>10</td>\n",
       "    </tr>\n",
       "  </tbody>\n",
       "</table>\n",
       "</div>"
      ],
      "text/plain": [
       "  karakter sınıfı karakter ismi  karakter yas\n",
       "0           kuzey         maymn            10\n",
       "1           güney         sezer            20\n",
       "2           güney         sezer            10"
      ]
     },
     "execution_count": 71,
     "metadata": {},
     "output_type": "execute_result"
    }
   ],
   "source": [
    "karakterData"
   ]
  },
  {
   "cell_type": "code",
   "execution_count": 76,
   "id": "5abe10ed",
   "metadata": {},
   "outputs": [
    {
     "data": {
      "text/html": [
       "<div>\n",
       "<style scoped>\n",
       "    .dataframe tbody tr th:only-of-type {\n",
       "        vertical-align: middle;\n",
       "    }\n",
       "\n",
       "    .dataframe tbody tr th {\n",
       "        vertical-align: top;\n",
       "    }\n",
       "\n",
       "    .dataframe thead th {\n",
       "        text-align: right;\n",
       "    }\n",
       "</style>\n",
       "<table border=\"1\" class=\"dataframe\">\n",
       "  <thead>\n",
       "    <tr style=\"text-align: right;\">\n",
       "      <th></th>\n",
       "      <th></th>\n",
       "      <th>karakter yas</th>\n",
       "    </tr>\n",
       "    <tr>\n",
       "      <th>karakter sınıfı</th>\n",
       "      <th>karakter ismi</th>\n",
       "      <th></th>\n",
       "    </tr>\n",
       "  </thead>\n",
       "  <tbody>\n",
       "    <tr>\n",
       "      <th>güney</th>\n",
       "      <th>sezer</th>\n",
       "      <td>30</td>\n",
       "    </tr>\n",
       "    <tr>\n",
       "      <th>kuzey</th>\n",
       "      <th>maymn</th>\n",
       "      <td>10</td>\n",
       "    </tr>\n",
       "  </tbody>\n",
       "</table>\n",
       "</div>"
      ],
      "text/plain": [
       "                               karakter yas\n",
       "karakter sınıfı karakter ismi              \n",
       "güney           sezer                    30\n",
       "kuzey           maymn                    10"
      ]
     },
     "execution_count": 76,
     "metadata": {},
     "output_type": "execute_result"
    }
   ],
   "source": [
    "karakterData.pivot_table(values=\"karakter yas\",index=[\"karakter sınıfı\",\"karakter ismi\"],aggfunc=np.sum)#toplama yapyım)"
   ]
  },
  {
   "cell_type": "code",
   "execution_count": null,
   "id": "0906d030",
   "metadata": {},
   "outputs": [],
   "source": []
  },
  {
   "cell_type": "code",
   "execution_count": null,
   "id": "33a56fb9",
   "metadata": {},
   "outputs": [],
   "source": []
  }
 ],
 "metadata": {
  "kernelspec": {
   "display_name": "Python 3 (ipykernel)",
   "language": "python",
   "name": "python3"
  },
  "language_info": {
   "codemirror_mode": {
    "name": "ipython",
    "version": 3
   },
   "file_extension": ".py",
   "mimetype": "text/x-python",
   "name": "python",
   "nbconvert_exporter": "python",
   "pygments_lexer": "ipython3",
   "version": "3.9.7"
  }
 },
 "nbformat": 4,
 "nbformat_minor": 5
}
